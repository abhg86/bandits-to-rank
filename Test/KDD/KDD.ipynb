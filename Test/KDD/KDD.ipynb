{
 "cells": [
  {
   "cell_type": "markdown",
   "metadata": {},
   "source": [
    "### KDD "
   ]
  },
  {
   "cell_type": "code",
   "execution_count": 2,
   "metadata": {},
   "outputs": [
    {
     "data": {
      "text/plain": [
       "'C:\\\\Users\\\\gauthieca\\\\Desktop\\\\Code_ Thèse\\\\bandits-to-rank\\\\Test\\\\KDD'"
      ]
     },
     "execution_count": 2,
     "metadata": {},
     "output_type": "execute_result"
    }
   ],
   "source": [
    "pwd"
   ]
  },
  {
   "cell_type": "code",
   "execution_count": 3,
   "metadata": {},
   "outputs": [
    {
     "name": "stdout",
     "output_type": "stream",
     "text": [
      "C:\\Users\\gauthieca\\Desktop\\Code_ Thèse\\bandits-to-rank\n"
     ]
    }
   ],
   "source": [
    "cd ../.."
   ]
  },
  {
   "cell_type": "code",
   "execution_count": 4,
   "metadata": {},
   "outputs": [],
   "source": [
    "from __future__ import print_function\n",
    "import sys \n",
    "import time \n",
    "from pyclick.click_models.Evaluation import LogLikelihood, Perplexity\n",
    "from pyclick.click_models.UBM import UBM\n",
    "from pyclick.click_models.DBN import DBN\n",
    "from pyclick.click_models.SDBN import SDBN\n",
    "from pyclick.click_models.DCM import DCM\n",
    "from pyclick.click_models.CCM import CCM\n",
    "from pyclick.click_models.CTR import DCTR, RCTR, GCTR\n",
    "from pyclick.click_models.CM import CM\n",
    "from pyclick.click_models.PBM import PBM\n",
    "from pyclick.utils.Utils import Utils\n",
    "from pyclick.utils.YandexRelPredChallengeParser import YandexRelPredChallengeParser\n",
    "\n",
    "from pyclick.search_session.SearchResult import SearchResult\n",
    "from pyclick.click_models.task_centric.TaskCentricSearchSession import TaskCentricSearchSession\n",
    "\n",
    "from random import sample\n",
    "from random import random"
   ]
  },
  {
   "cell_type": "code",
   "execution_count": 23,
   "metadata": {},
   "outputs": [],
   "source": [
    "import pandas as pd"
   ]
  },
  {
   "cell_type": "code",
   "execution_count": 11,
   "metadata": {},
   "outputs": [],
   "source": [
    "import sys\n",
    "sys.path.insert(0, 'C:\\\\Users\\\\gauthieca\\\\Desktop\\\\Code_ Thèse\\\\bandits-to-rank')\n",
    "\n",
    "from bandits_to_rank.sampling.pbm_inference import *\n",
    "import numpy as np"
   ]
  },
  {
   "cell_type": "code",
   "execution_count": 26,
   "metadata": {},
   "outputs": [
    {
     "name": "stdout",
     "output_type": "stream",
     "text": [
      "C:\\Users\\gauthieca\\Desktop\\Code_ Thèse\\bandits-to-rank\n"
     ]
    }
   ],
   "source": [
    "cd .."
   ]
  },
  {
   "cell_type": "markdown",
   "metadata": {},
   "source": [
    "## Import de KDD light"
   ]
  },
  {
   "cell_type": "code",
   "execution_count": 27,
   "metadata": {},
   "outputs": [],
   "source": [
    "KDD_train_light = pd.read_csv('KDD_filtered.csv')"
   ]
  },
  {
   "cell_type": "code",
   "execution_count": 31,
   "metadata": {},
   "outputs": [
    {
     "data": {
      "text/plain": [
       "(3015547, 13)"
      ]
     },
     "execution_count": 31,
     "metadata": {},
     "output_type": "execute_result"
    }
   ],
   "source": [
    "KDD_train_light.shape"
   ]
  },
  {
   "cell_type": "markdown",
   "metadata": {},
   "source": [
    "### Fonction for get matrice"
   ]
  },
  {
   "cell_type": "code",
   "execution_count": 32,
   "metadata": {},
   "outputs": [],
   "source": [
    "def get_list_clean_ad(df_query):\n",
    "\n",
    "    ###get ad over 1000 :\n",
    "    df_query_group_ad_Pos = df_query.groupby([\"QueryID\",'AdId','Position']).count()\n",
    "    over_10000 =  df_query_group_ad_Pos['Impression']>=1000\n",
    "    df_query_over1000 = df_query_group_ad_Pos[over_10000]\n",
    "\n",
    "    ### get ad on all 3position : \n",
    "    df_query_over1000_ad = df_query_over1000.groupby([\"QueryID\",'AdId']).count()\n",
    "    on_3pos =  df_query_over1000_ad['Impression']==3\n",
    "    df_query_group_ad_3 = df_query_over1000_ad[on_3pos]\n",
    "    \n",
    "    ###List Add :\n",
    "    ads_list = list(df_query_group_ad_3.index.get_level_values('AdId'))\n",
    "    return ads_list "
   ]
  },
  {
   "cell_type": "code",
   "execution_count": 66,
   "metadata": {},
   "outputs": [],
   "source": [
    "def buil_mat (df_mat):\n",
    "    nb_ad,nb_pos =df_mat.shape\n",
    "    mat =np.zeros((nb_ad, nb_pos), dtype=np.int)\n",
    "    dict_ad_ind={}\n",
    "    ad_num=0\n",
    "    for index, row in df_mat.iterrows():  \n",
    "        for pos in range(nb_pos):\n",
    "            dict_ad_ind[index]=ad_num\n",
    "            mat[ad_num][pos]=row[pos]\n",
    "        ad_num+=1\n",
    "    return dict_ad_ind,mat"
   ]
  },
  {
   "cell_type": "code",
   "execution_count": 68,
   "metadata": {},
   "outputs": [],
   "source": [
    "def getmat (query,df_full ):\n",
    "    ###filter by query\n",
    "    df_query= df_full[df_full.QueryID==query]\n",
    "    ### filter by ad\n",
    "    ad_list = get_list_clean_ad(df_query)\n",
    "    df_query_clean = df_query[df_query.AdId.isin(ad_list)]\n",
    "    \n",
    "    #### GET DF impression and click\n",
    "    df_mat_query_impr = df_query_clean[['AdId','Position','Impression']].groupby(['AdId','Position'],as_index = False).count().pivot('AdId','Position').fillna(0)\n",
    "    df_mat_query_clic = df_query_clean[['AdId','Position','Click']].groupby(['AdId','Position'],as_index = False).sum().pivot('AdId','Position').fillna(0)\n",
    "    \n",
    "    \n",
    "    #### Transform to np_array\n",
    "    dict_ad_ind,mat_query_impr = buil_mat(df_mat_query_impr)\n",
    "    dict_ad_ind,mat_query_clic = buil_mat(df_mat_query_clic)\n",
    "    return mat_query_impr,mat_query_clic,dict_ad_ind\n",
    "    "
   ]
  },
  {
   "cell_type": "code",
   "execution_count": 72,
   "metadata": {},
   "outputs": [],
   "source": [
    "impr_19,click_19,_ = getmat(19,KDD_train_light)"
   ]
  },
  {
   "cell_type": "code",
   "execution_count": 76,
   "metadata": {},
   "outputs": [],
   "source": [
    "def get_param_query(query,df_full):\n",
    "    impr,click,_ = getmat(query,df_full)\n",
    "    nb_products,nb_positions = impr.shape\n",
    "    svd =SVD(nb_products, nb_positions)\n",
    "    svd.nb_views = impr\n",
    "    svd.nb_clicks =click\n",
    "    svd.learn()\n",
    "   \n",
    "    return  svd.get_params() "
   ]
  },
  {
   "cell_type": "code",
   "execution_count": 86,
   "metadata": {},
   "outputs": [],
   "source": [
    "query = [19, 2, 10, 9, 7, 8, 4, 1]"
   ]
  },
  {
   "cell_type": "code",
   "execution_count": 87,
   "metadata": {},
   "outputs": [],
   "source": [
    "dict_theta_query ={}\n",
    "for i in query:\n",
    "    theta, kappa =get_param_query(i,KDD_train_light)\n",
    "    dict_theta_query[i]={'thetas':list(theta),'kappas':list(kappa)}"
   ]
  },
  {
   "cell_type": "code",
   "execution_count": 91,
   "metadata": {},
   "outputs": [
    {
     "data": {
      "text/plain": [
       "{19: {'thetas': [0.04998115200718376,\n",
       "   0.03430311957880712,\n",
       "   0.036602165932245315,\n",
       "   0.04669622534961218,\n",
       "   0.030629107242356162],\n",
       "  'kappas': [1.0, 0.48574928517746124, 0.3297979789061402]},\n",
       " 2: {'thetas': [0.01827178757558634,\n",
       "   0.02353305657790025,\n",
       "   0.018121746359756177,\n",
       "   0.07734856183748726,\n",
       "   0.016282720520416426],\n",
       "  'kappas': [1.0, 0.5032179142509637, 0.4033327487828045]},\n",
       " 10: {'thetas': [0.14847462536579176,\n",
       "   0.004398044587847975,\n",
       "   0.039165307602481596,\n",
       "   0.11481401719638429,\n",
       "   0.0739868806137541,\n",
       "   0.013119969501046307],\n",
       "  'kappas': [1.0, 0.41114941297751506, 0.27510543487320777]},\n",
       " 9: {'thetas': [0.04024562589619809,\n",
       "   0.06870495493362541,\n",
       "   0.03836948985880075,\n",
       "   0.02284041243892426,\n",
       "   0.06149888422426908,\n",
       "   0.017378239524063456],\n",
       "  'kappas': [1.0, 0.5458576614906008, 0.529046315216675]},\n",
       " 7: {'thetas': [0.04643163870552662,\n",
       "   0.025341272333348094,\n",
       "   0.026069485537007244,\n",
       "   0.04198094853055038,\n",
       "   0.024656101028562114,\n",
       "   0.06674437580594327],\n",
       "  'kappas': [1.0, 0.49095714874143986, 0.3448151633915659]},\n",
       " 8: {'thetas': [0.11040921388152844,\n",
       "   0.10810529433197942,\n",
       "   0.11453579168948981,\n",
       "   0.13268458686939627,\n",
       "   0.1461514186044966,\n",
       "   0.11535411262983972,\n",
       "   0.11704301166858042,\n",
       "   0.1268770422744116],\n",
       "  'kappas': [1.0, 0.17814460248483788, 0.10121830784925027]},\n",
       " 4: {'thetas': [0.08391385965861538,\n",
       "   0.029042828593054043,\n",
       "   0.022615040087317944,\n",
       "   0.04952877447429741,\n",
       "   0.04771136325745031,\n",
       "   0.021735374188860238,\n",
       "   0.041857480122229666,\n",
       "   0.023531703596705766,\n",
       "   0.022071065449377023,\n",
       "   0.02446043716516139,\n",
       "   0.02275381650650824],\n",
       "  'kappas': [1.0, 0.4777396579828458, 0.3488756618037288]},\n",
       " 1: {'thetas': [0.026731124700266784,\n",
       "   0.1494391661040619,\n",
       "   0.051707253892390316,\n",
       "   0.0702260715803677,\n",
       "   0.0791864699364669,\n",
       "   0.08871839553852724,\n",
       "   0.0499234205849619,\n",
       "   0.10326291175000955,\n",
       "   0.021697899156967182,\n",
       "   0.029145053675412588,\n",
       "   0.02831429684695356],\n",
       "  'kappas': [1.0, 0.4734820998829569, 0.32780710414209807]}}"
      ]
     },
     "execution_count": 91,
     "metadata": {},
     "output_type": "execute_result"
    }
   ],
   "source": [
    "dict_theta_query"
   ]
  },
  {
   "cell_type": "markdown",
   "metadata": {},
   "source": [
    "### Record param"
   ]
  },
  {
   "cell_type": "code",
   "execution_count": 98,
   "metadata": {},
   "outputs": [
    {
     "data": {
      "text/plain": [
       "'C:\\\\Users\\\\gauthieca\\\\Desktop\\\\Code_ Thèse\\\\bandits-to-rank\\\\Test\\\\KDD'"
      ]
     },
     "execution_count": 98,
     "metadata": {},
     "output_type": "execute_result"
    }
   ],
   "source": [
    "pwd"
   ]
  },
  {
   "cell_type": "code",
   "execution_count": 93,
   "metadata": {},
   "outputs": [
    {
     "name": "stdout",
     "output_type": "stream",
     "text": [
      "C:\\Users\\gauthieca\\Desktop\\Code_ Thèse\\bandits-to-rank\\Test\\KDD\n"
     ]
    }
   ],
   "source": [
    "cd Test/KDD/"
   ]
  },
  {
   "cell_type": "code",
   "execution_count": 99,
   "metadata": {},
   "outputs": [],
   "source": [
    "import json\n",
    "with open('param_KDD.txt', 'w') as file:\n",
    "    json.dump(dict_theta_query, file)"
   ]
  },
  {
   "cell_type": "markdown",
   "metadata": {},
   "source": [
    "#### olllllllllddd"
   ]
  },
  {
   "cell_type": "code",
   "execution_count": 4,
   "metadata": {},
   "outputs": [],
   "source": [
    "import zipfile\n",
    "         \n",
    "zip = zipfile.ZipFile('track2.zip')\n",
    "zip.extract('track2/training.txt')\n",
    "\n",
    "zip.close()"
   ]
  },
  {
   "cell_type": "code",
   "execution_count": 5,
   "metadata": {},
   "outputs": [
    {
     "data": {
      "text/plain": [
       "'C:\\\\Users\\\\gauthieca\\\\Desktop\\\\Code_ Thèse\\\\bandits-to-rank'"
      ]
     },
     "execution_count": 5,
     "metadata": {},
     "output_type": "execute_result"
    }
   ],
   "source": [
    "pwd"
   ]
  },
  {
   "cell_type": "code",
   "execution_count": 6,
   "metadata": {},
   "outputs": [
    {
     "name": "stdout",
     "output_type": "stream",
     "text": [
      "C:\\Users\\gauthieca\\Desktop\\Code_ Thèse\\bandits-to-rank\\track2\n"
     ]
    }
   ],
   "source": [
    "cd track2"
   ]
  },
  {
   "cell_type": "code",
   "execution_count": 8,
   "metadata": {},
   "outputs": [
    {
     "ename": "MemoryError",
     "evalue": "",
     "output_type": "error",
     "traceback": [
      "\u001b[1;31m---------------------------------------------------------------------------\u001b[0m",
      "\u001b[1;31mMemoryError\u001b[0m                               Traceback (most recent call last)",
      "\u001b[1;32m<ipython-input-8-96f7def58104>\u001b[0m in \u001b[0;36m<module>\u001b[1;34m\u001b[0m\n\u001b[0;32m      1\u001b[0m \u001b[1;32mimport\u001b[0m \u001b[0mpandas\u001b[0m \u001b[1;32mas\u001b[0m \u001b[0mpd\u001b[0m\u001b[1;33m\u001b[0m\u001b[1;33m\u001b[0m\u001b[0m\n\u001b[1;32m----> 2\u001b[1;33m \u001b[0mdf_train_KDD\u001b[0m\u001b[1;33m=\u001b[0m \u001b[0mpd\u001b[0m\u001b[1;33m.\u001b[0m\u001b[0mread_csv\u001b[0m\u001b[1;33m(\u001b[0m\u001b[1;34m\"training.txt\"\u001b[0m\u001b[1;33m,\u001b[0m \u001b[0msep\u001b[0m\u001b[1;33m=\u001b[0m\u001b[1;34m\"\\t\"\u001b[0m\u001b[1;33m,\u001b[0m  \u001b[0mnames\u001b[0m\u001b[1;33m=\u001b[0m\u001b[1;33m[\u001b[0m\u001b[1;34m'Click'\u001b[0m\u001b[1;33m,\u001b[0m\u001b[1;34m'Impression'\u001b[0m\u001b[1;33m,\u001b[0m\u001b[1;34m'DisplayURL'\u001b[0m\u001b[1;33m,\u001b[0m\u001b[1;34m'AdId'\u001b[0m\u001b[1;33m,\u001b[0m\u001b[1;34m'AdvertiserID'\u001b[0m\u001b[1;33m,\u001b[0m\u001b[1;34m'Depth'\u001b[0m\u001b[1;33m,\u001b[0m\u001b[1;34m'Position'\u001b[0m\u001b[1;33m,\u001b[0m\u001b[1;34m'QueryID'\u001b[0m\u001b[1;33m,\u001b[0m\u001b[1;34m'KeywordID'\u001b[0m\u001b[1;33m,\u001b[0m\u001b[1;34m'TitleID'\u001b[0m\u001b[1;33m,\u001b[0m\u001b[1;34m'DescriptionID'\u001b[0m\u001b[1;33m,\u001b[0m\u001b[1;34m'UserID '\u001b[0m\u001b[1;33m]\u001b[0m\u001b[1;33m,\u001b[0m\u001b[0mdtype\u001b[0m\u001b[1;33m=\u001b[0m\u001b[1;33m{\u001b[0m\u001b[1;34m'Click'\u001b[0m\u001b[1;33m:\u001b[0m\u001b[0mint\u001b[0m\u001b[1;33m,\u001b[0m\u001b[1;34m'Impression'\u001b[0m\u001b[1;33m:\u001b[0m\u001b[0mint\u001b[0m\u001b[1;33m,\u001b[0m\u001b[1;34m'Depth'\u001b[0m\u001b[1;33m:\u001b[0m\u001b[0mint\u001b[0m\u001b[1;33m,\u001b[0m\u001b[1;34m'Position'\u001b[0m\u001b[1;33m:\u001b[0m\u001b[0mint\u001b[0m\u001b[1;33m}\u001b[0m\u001b[1;33m,\u001b[0m\u001b[0mnrows\u001b[0m\u001b[1;33m=\u001b[0m\u001b[1;36m100000000\u001b[0m\u001b[1;33m)\u001b[0m\u001b[1;33m\u001b[0m\u001b[1;33m\u001b[0m\u001b[0m\n\u001b[0m",
      "\u001b[1;32mC:\\ProgramData\\Anaconda3\\lib\\site-packages\\pandas\\io\\parsers.py\u001b[0m in \u001b[0;36mparser_f\u001b[1;34m(filepath_or_buffer, sep, delimiter, header, names, index_col, usecols, squeeze, prefix, mangle_dupe_cols, dtype, engine, converters, true_values, false_values, skipinitialspace, skiprows, skipfooter, nrows, na_values, keep_default_na, na_filter, verbose, skip_blank_lines, parse_dates, infer_datetime_format, keep_date_col, date_parser, dayfirst, iterator, chunksize, compression, thousands, decimal, lineterminator, quotechar, quoting, doublequote, escapechar, comment, encoding, dialect, tupleize_cols, error_bad_lines, warn_bad_lines, delim_whitespace, low_memory, memory_map, float_precision)\u001b[0m\n\u001b[0;32m    700\u001b[0m                     skip_blank_lines=skip_blank_lines)\n\u001b[0;32m    701\u001b[0m \u001b[1;33m\u001b[0m\u001b[0m\n\u001b[1;32m--> 702\u001b[1;33m         \u001b[1;32mreturn\u001b[0m \u001b[0m_read\u001b[0m\u001b[1;33m(\u001b[0m\u001b[0mfilepath_or_buffer\u001b[0m\u001b[1;33m,\u001b[0m \u001b[0mkwds\u001b[0m\u001b[1;33m)\u001b[0m\u001b[1;33m\u001b[0m\u001b[1;33m\u001b[0m\u001b[0m\n\u001b[0m\u001b[0;32m    703\u001b[0m \u001b[1;33m\u001b[0m\u001b[0m\n\u001b[0;32m    704\u001b[0m     \u001b[0mparser_f\u001b[0m\u001b[1;33m.\u001b[0m\u001b[0m__name__\u001b[0m \u001b[1;33m=\u001b[0m \u001b[0mname\u001b[0m\u001b[1;33m\u001b[0m\u001b[1;33m\u001b[0m\u001b[0m\n",
      "\u001b[1;32mC:\\ProgramData\\Anaconda3\\lib\\site-packages\\pandas\\io\\parsers.py\u001b[0m in \u001b[0;36m_read\u001b[1;34m(filepath_or_buffer, kwds)\u001b[0m\n\u001b[0;32m    433\u001b[0m \u001b[1;33m\u001b[0m\u001b[0m\n\u001b[0;32m    434\u001b[0m     \u001b[1;32mtry\u001b[0m\u001b[1;33m:\u001b[0m\u001b[1;33m\u001b[0m\u001b[1;33m\u001b[0m\u001b[0m\n\u001b[1;32m--> 435\u001b[1;33m         \u001b[0mdata\u001b[0m \u001b[1;33m=\u001b[0m \u001b[0mparser\u001b[0m\u001b[1;33m.\u001b[0m\u001b[0mread\u001b[0m\u001b[1;33m(\u001b[0m\u001b[0mnrows\u001b[0m\u001b[1;33m)\u001b[0m\u001b[1;33m\u001b[0m\u001b[1;33m\u001b[0m\u001b[0m\n\u001b[0m\u001b[0;32m    436\u001b[0m     \u001b[1;32mfinally\u001b[0m\u001b[1;33m:\u001b[0m\u001b[1;33m\u001b[0m\u001b[1;33m\u001b[0m\u001b[0m\n\u001b[0;32m    437\u001b[0m         \u001b[0mparser\u001b[0m\u001b[1;33m.\u001b[0m\u001b[0mclose\u001b[0m\u001b[1;33m(\u001b[0m\u001b[1;33m)\u001b[0m\u001b[1;33m\u001b[0m\u001b[1;33m\u001b[0m\u001b[0m\n",
      "\u001b[1;32mC:\\ProgramData\\Anaconda3\\lib\\site-packages\\pandas\\io\\parsers.py\u001b[0m in \u001b[0;36mread\u001b[1;34m(self, nrows)\u001b[0m\n\u001b[0;32m   1137\u001b[0m     \u001b[1;32mdef\u001b[0m \u001b[0mread\u001b[0m\u001b[1;33m(\u001b[0m\u001b[0mself\u001b[0m\u001b[1;33m,\u001b[0m \u001b[0mnrows\u001b[0m\u001b[1;33m=\u001b[0m\u001b[1;32mNone\u001b[0m\u001b[1;33m)\u001b[0m\u001b[1;33m:\u001b[0m\u001b[1;33m\u001b[0m\u001b[1;33m\u001b[0m\u001b[0m\n\u001b[0;32m   1138\u001b[0m         \u001b[0mnrows\u001b[0m \u001b[1;33m=\u001b[0m \u001b[0m_validate_integer\u001b[0m\u001b[1;33m(\u001b[0m\u001b[1;34m'nrows'\u001b[0m\u001b[1;33m,\u001b[0m \u001b[0mnrows\u001b[0m\u001b[1;33m)\u001b[0m\u001b[1;33m\u001b[0m\u001b[1;33m\u001b[0m\u001b[0m\n\u001b[1;32m-> 1139\u001b[1;33m         \u001b[0mret\u001b[0m \u001b[1;33m=\u001b[0m \u001b[0mself\u001b[0m\u001b[1;33m.\u001b[0m\u001b[0m_engine\u001b[0m\u001b[1;33m.\u001b[0m\u001b[0mread\u001b[0m\u001b[1;33m(\u001b[0m\u001b[0mnrows\u001b[0m\u001b[1;33m)\u001b[0m\u001b[1;33m\u001b[0m\u001b[1;33m\u001b[0m\u001b[0m\n\u001b[0m\u001b[0;32m   1140\u001b[0m \u001b[1;33m\u001b[0m\u001b[0m\n\u001b[0;32m   1141\u001b[0m         \u001b[1;31m# May alter columns / col_dict\u001b[0m\u001b[1;33m\u001b[0m\u001b[1;33m\u001b[0m\u001b[1;33m\u001b[0m\u001b[0m\n",
      "\u001b[1;32mC:\\ProgramData\\Anaconda3\\lib\\site-packages\\pandas\\io\\parsers.py\u001b[0m in \u001b[0;36mread\u001b[1;34m(self, nrows)\u001b[0m\n\u001b[0;32m   1993\u001b[0m     \u001b[1;32mdef\u001b[0m \u001b[0mread\u001b[0m\u001b[1;33m(\u001b[0m\u001b[0mself\u001b[0m\u001b[1;33m,\u001b[0m \u001b[0mnrows\u001b[0m\u001b[1;33m=\u001b[0m\u001b[1;32mNone\u001b[0m\u001b[1;33m)\u001b[0m\u001b[1;33m:\u001b[0m\u001b[1;33m\u001b[0m\u001b[1;33m\u001b[0m\u001b[0m\n\u001b[0;32m   1994\u001b[0m         \u001b[1;32mtry\u001b[0m\u001b[1;33m:\u001b[0m\u001b[1;33m\u001b[0m\u001b[1;33m\u001b[0m\u001b[0m\n\u001b[1;32m-> 1995\u001b[1;33m             \u001b[0mdata\u001b[0m \u001b[1;33m=\u001b[0m \u001b[0mself\u001b[0m\u001b[1;33m.\u001b[0m\u001b[0m_reader\u001b[0m\u001b[1;33m.\u001b[0m\u001b[0mread\u001b[0m\u001b[1;33m(\u001b[0m\u001b[0mnrows\u001b[0m\u001b[1;33m)\u001b[0m\u001b[1;33m\u001b[0m\u001b[1;33m\u001b[0m\u001b[0m\n\u001b[0m\u001b[0;32m   1996\u001b[0m         \u001b[1;32mexcept\u001b[0m \u001b[0mStopIteration\u001b[0m\u001b[1;33m:\u001b[0m\u001b[1;33m\u001b[0m\u001b[1;33m\u001b[0m\u001b[0m\n\u001b[0;32m   1997\u001b[0m             \u001b[1;32mif\u001b[0m \u001b[0mself\u001b[0m\u001b[1;33m.\u001b[0m\u001b[0m_first_chunk\u001b[0m\u001b[1;33m:\u001b[0m\u001b[1;33m\u001b[0m\u001b[1;33m\u001b[0m\u001b[0m\n",
      "\u001b[1;32mpandas/_libs/parsers.pyx\u001b[0m in \u001b[0;36mpandas._libs.parsers.TextReader.read\u001b[1;34m()\u001b[0m\n",
      "\u001b[1;32mpandas/_libs/parsers.pyx\u001b[0m in \u001b[0;36mpandas._libs.parsers.TextReader._read_low_memory\u001b[1;34m()\u001b[0m\n",
      "\u001b[1;32mpandas/_libs/parsers.pyx\u001b[0m in \u001b[0;36mpandas._libs.parsers.TextReader._read_rows\u001b[1;34m()\u001b[0m\n",
      "\u001b[1;32mpandas/_libs/parsers.pyx\u001b[0m in \u001b[0;36mpandas._libs.parsers.TextReader._convert_column_data\u001b[1;34m()\u001b[0m\n",
      "\u001b[1;32mpandas/_libs/parsers.pyx\u001b[0m in \u001b[0;36mpandas._libs.parsers.TextReader._convert_tokens\u001b[1;34m()\u001b[0m\n",
      "\u001b[1;32mpandas/_libs/parsers.pyx\u001b[0m in \u001b[0;36mpandas._libs.parsers.TextReader._convert_with_dtype\u001b[1;34m()\u001b[0m\n",
      "\u001b[1;32mpandas/_libs/parsers.pyx\u001b[0m in \u001b[0;36mpandas._libs.parsers._try_int64\u001b[1;34m()\u001b[0m\n",
      "\u001b[1;31mMemoryError\u001b[0m: "
     ]
    }
   ],
   "source": [
    "import pandas as pd\n",
    "df_train_KDD= pd.read_csv(\"training.txt\", sep=\"\\t\",  names=['Click','Impression','DisplayURL','AdId','AdvertiserID','Depth','Position','QueryID','KeywordID','TitleID','DescriptionID','UserID '],dtype={'Click':int,'Impression':int,'Depth':int,'Position':int},nrows=100000000)  "
   ]
  },
  {
   "cell_type": "code",
   "execution_count": null,
   "metadata": {},
   "outputs": [],
   "source": [
    "for line in open(\"training.txt\"):\n",
    "    print (line)"
   ]
  },
  {
   "cell_type": "code",
   "execution_count": null,
   "metadata": {},
   "outputs": [],
   "source": [
    "def readInChunks(fileObj, chunkSize=1024):\n",
    "    while True:\n",
    "        data = fileObj.read(chunkSize)\n",
    "        if not data:\n",
    "            break\n",
    "        while data[-1:] != '\\n':\n",
    "            data+=fileObj.read(1)\n",
    "        yield data"
   ]
  },
  {
   "cell_type": "code",
   "execution_count": 8,
   "metadata": {},
   "outputs": [
    {
     "data": {
      "text/plain": [
       "(5255063, 12)"
      ]
     },
     "execution_count": 8,
     "metadata": {},
     "output_type": "execute_result"
    }
   ],
   "source": [
    "df_train_KDD.shape"
   ]
  },
  {
   "cell_type": "code",
   "execution_count": 10,
   "metadata": {},
   "outputs": [
    {
     "data": {
      "text/html": [
       "<div>\n",
       "<style scoped>\n",
       "    .dataframe tbody tr th:only-of-type {\n",
       "        vertical-align: middle;\n",
       "    }\n",
       "\n",
       "    .dataframe tbody tr th {\n",
       "        vertical-align: top;\n",
       "    }\n",
       "\n",
       "    .dataframe thead th {\n",
       "        text-align: right;\n",
       "    }\n",
       "</style>\n",
       "<table border=\"1\" class=\"dataframe\">\n",
       "  <thead>\n",
       "    <tr style=\"text-align: right;\">\n",
       "      <th></th>\n",
       "      <th>Click</th>\n",
       "      <th>Impression</th>\n",
       "      <th>DisplayURL</th>\n",
       "      <th>AdId</th>\n",
       "      <th>AdvertiserID</th>\n",
       "      <th>Depth</th>\n",
       "      <th>Position</th>\n",
       "      <th>QueryID</th>\n",
       "      <th>KeywordID</th>\n",
       "      <th>TitleID</th>\n",
       "      <th>DescriptionID</th>\n",
       "      <th>UserID</th>\n",
       "    </tr>\n",
       "  </thead>\n",
       "  <tbody>\n",
       "    <tr>\n",
       "      <th>0</th>\n",
       "      <td>0</td>\n",
       "      <td>1</td>\n",
       "      <td>4298118681424644510</td>\n",
       "      <td>7686695</td>\n",
       "      <td>385</td>\n",
       "      <td>3</td>\n",
       "      <td>3</td>\n",
       "      <td>1601</td>\n",
       "      <td>5521</td>\n",
       "      <td>7709</td>\n",
       "      <td>576</td>\n",
       "      <td>490234</td>\n",
       "    </tr>\n",
       "    <tr>\n",
       "      <th>1</th>\n",
       "      <td>0</td>\n",
       "      <td>1</td>\n",
       "      <td>4860571499428580850</td>\n",
       "      <td>21560664</td>\n",
       "      <td>37484</td>\n",
       "      <td>2</td>\n",
       "      <td>2</td>\n",
       "      <td>2255103</td>\n",
       "      <td>317</td>\n",
       "      <td>48989</td>\n",
       "      <td>44771</td>\n",
       "      <td>490234</td>\n",
       "    </tr>\n",
       "    <tr>\n",
       "      <th>2</th>\n",
       "      <td>0</td>\n",
       "      <td>1</td>\n",
       "      <td>9704320783495875564</td>\n",
       "      <td>21748480</td>\n",
       "      <td>36759</td>\n",
       "      <td>3</td>\n",
       "      <td>3</td>\n",
       "      <td>4532751</td>\n",
       "      <td>60721</td>\n",
       "      <td>685038</td>\n",
       "      <td>29681</td>\n",
       "      <td>490234</td>\n",
       "    </tr>\n",
       "    <tr>\n",
       "      <th>3</th>\n",
       "      <td>0</td>\n",
       "      <td>1</td>\n",
       "      <td>13677630321509009335</td>\n",
       "      <td>3517124</td>\n",
       "      <td>23778</td>\n",
       "      <td>3</td>\n",
       "      <td>1</td>\n",
       "      <td>1601</td>\n",
       "      <td>2155</td>\n",
       "      <td>1207</td>\n",
       "      <td>1422</td>\n",
       "      <td>490234</td>\n",
       "    </tr>\n",
       "    <tr>\n",
       "      <th>4</th>\n",
       "      <td>0</td>\n",
       "      <td>1</td>\n",
       "      <td>3284760244799604489</td>\n",
       "      <td>20758093</td>\n",
       "      <td>34535</td>\n",
       "      <td>1</td>\n",
       "      <td>1</td>\n",
       "      <td>4532751</td>\n",
       "      <td>77819</td>\n",
       "      <td>266618</td>\n",
       "      <td>222223</td>\n",
       "      <td>490234</td>\n",
       "    </tr>\n",
       "  </tbody>\n",
       "</table>\n",
       "</div>"
      ],
      "text/plain": [
       "   Click  Impression            DisplayURL      AdId  AdvertiserID  Depth  \\\n",
       "0      0           1   4298118681424644510   7686695           385      3   \n",
       "1      0           1   4860571499428580850  21560664         37484      2   \n",
       "2      0           1   9704320783495875564  21748480         36759      3   \n",
       "3      0           1  13677630321509009335   3517124         23778      3   \n",
       "4      0           1   3284760244799604489  20758093         34535      1   \n",
       "\n",
       "   Position  QueryID  KeywordID  TitleID  DescriptionID  UserID   \n",
       "0         3     1601       5521     7709            576   490234  \n",
       "1         2  2255103        317    48989          44771   490234  \n",
       "2         3  4532751      60721   685038          29681   490234  \n",
       "3         1     1601       2155     1207           1422   490234  \n",
       "4         1  4532751      77819   266618         222223   490234  "
      ]
     },
     "execution_count": 10,
     "metadata": {},
     "output_type": "execute_result"
    }
   ],
   "source": [
    "df_train_KDD.head()"
   ]
  },
  {
   "cell_type": "code",
   "execution_count": 96,
   "metadata": {},
   "outputs": [
    {
     "ename": "NameError",
     "evalue": "name 'df_train_KDD' is not defined",
     "output_type": "error",
     "traceback": [
      "\u001b[1;31m---------------------------------------------------------------------------\u001b[0m",
      "\u001b[1;31mNameError\u001b[0m                                 Traceback (most recent call last)",
      "\u001b[1;32m<ipython-input-96-7e4d2d9d2986>\u001b[0m in \u001b[0;36m<module>\u001b[1;34m\u001b[0m\n\u001b[1;32m----> 1\u001b[1;33m \u001b[0mdf_train_KDD\u001b[0m\u001b[1;33m.\u001b[0m\u001b[0mgroupby\u001b[0m\u001b[1;33m(\u001b[0m\u001b[1;33m[\u001b[0m\u001b[1;34m\"AdId\"\u001b[0m\u001b[1;33m,\u001b[0m\u001b[1;34m\"QueryID\"\u001b[0m\u001b[1;33m,\u001b[0m\u001b[1;34m'Depth'\u001b[0m\u001b[1;33m,\u001b[0m\u001b[1;34m'Position'\u001b[0m\u001b[1;33m]\u001b[0m\u001b[1;33m)\u001b[0m\u001b[1;33m.\u001b[0m\u001b[0mcount\u001b[0m\u001b[1;33m(\u001b[0m\u001b[1;33m)\u001b[0m\u001b[1;33m.\u001b[0m\u001b[0msort_values\u001b[0m\u001b[1;33m(\u001b[0m\u001b[0mby\u001b[0m \u001b[1;33m=\u001b[0m \u001b[1;34m'Impression'\u001b[0m\u001b[1;33m)\u001b[0m\u001b[1;33m.\u001b[0m\u001b[0mhead\u001b[0m\u001b[1;33m(\u001b[0m\u001b[1;33m)\u001b[0m\u001b[1;33m\u001b[0m\u001b[1;33m\u001b[0m\u001b[0m\n\u001b[0m",
      "\u001b[1;31mNameError\u001b[0m: name 'df_train_KDD' is not defined"
     ]
    }
   ],
   "source": [
    "df_train_KDD.groupby([\"AdId\",\"QueryID\",'Depth','Position']).count().sort_values(by = 'Impression')"
   ]
  },
  {
   "cell_type": "code",
   "execution_count": null,
   "metadata": {},
   "outputs": [],
   "source": []
  }
 ],
 "metadata": {
  "kernelspec": {
   "display_name": "Python 3",
   "language": "python",
   "name": "python3"
  },
  "language_info": {
   "codemirror_mode": {
    "name": "ipython",
    "version": 3
   },
   "file_extension": ".py",
   "mimetype": "text/x-python",
   "name": "python",
   "nbconvert_exporter": "python",
   "pygments_lexer": "ipython3",
   "version": "3.8.7"
  }
 },
 "nbformat": 4,
 "nbformat_minor": 4
}
