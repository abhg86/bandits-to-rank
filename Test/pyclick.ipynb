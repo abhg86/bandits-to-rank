{
 "cells": [
  {
   "cell_type": "markdown",
   "metadata": {},
   "source": [
    "### Test Pyclick"
   ]
  },
  {
   "cell_type": "code",
   "execution_count": 1,
   "metadata": {},
   "outputs": [
    {
     "data": {
      "text/plain": [
       "'C:\\\\Users\\\\gauthieca\\\\Desktop\\\\Code_ Thèse\\\\bandits-to-rank\\\\Test'"
      ]
     },
     "execution_count": 1,
     "metadata": {},
     "output_type": "execute_result"
    }
   ],
   "source": [
    "pwd"
   ]
  },
  {
   "cell_type": "code",
   "execution_count": 4,
   "metadata": {},
   "outputs": [
    {
     "name": "stdout",
     "output_type": "stream",
     "text": [
      "C:\\Users\\gauthieca\\Desktop\\Code_ Thèse\n"
     ]
    }
   ],
   "source": [
    "cd ../../"
   ]
  },
  {
   "cell_type": "code",
   "execution_count": null,
   "metadata": {},
   "outputs": [],
   "source": [
    "from __future__ import print_function\n",
    "import sys \n",
    "import time \n",
    "from pyclick.click_models.Evaluation import LogLikelihood, Perplexity\n",
    "from pyclick.click_models.UBM import UBM\n",
    "from pyclick.click_models.DBN import DBN\n",
    "from pyclick.click_models.SDBN import SDBN\n",
    "from pyclick.click_models.DCM import DCM\n",
    "from pyclick.click_models.CCM import CCM\n",
    "from pyclick.click_models.CTR import DCTR, RCTR, GCTR\n",
    "from pyclick.click_models.CM import CM\n",
    "from pyclick.click_models.PBM import PBM\n",
    "from pyclick.utils.Utils import Utils\n",
    "from pyclick.utils.YandexRelPredChallengeParser import YandexRelPredChallengeParser\n",
    "\n",
    "from pyclick.search_session.SearchResult import SearchResult\n",
    "from pyclick.click_models.task_centric.TaskCentricSearchSession import TaskCentricSearchSession\n",
    "\n",
    "from random import sample\n",
    "from random import random"
   ]
  },
  {
   "cell_type": "code",
   "execution_count": 5,
   "metadata": {},
   "outputs": [
    {
     "name": "stdout",
     "output_type": "stream",
     "text": [
      "-------------------------------\n",
      "Training on 24615 search sessions (42 unique queries).\n",
      "-------------------------------\n",
      "\tTrained PBM click model in 177 secs\n",
      "-------------------------------\n",
      "Testing on 0 search sessions (0 unique queries).\n",
      "-------------------------------\n"
     ]
    },
    {
     "ename": "ZeroDivisionError",
     "evalue": "division by zero",
     "traceback": [
      "\u001b[1;31m---------------------------------------------------------------------------\u001b[0m",
      "\u001b[1;31mZeroDivisionError\u001b[0m                         Traceback (most recent call last)",
      "\u001b[1;32m<ipython-input-5-b3d64818d7df>\u001b[0m in \u001b[0;36m<module>\u001b[1;34m\u001b[0m\n\u001b[0;32m     29\u001b[0m \u001b[1;33m\u001b[0m\u001b[0m\n\u001b[0;32m     30\u001b[0m \u001b[0mstart\u001b[0m \u001b[1;33m=\u001b[0m \u001b[0mtime\u001b[0m\u001b[1;33m.\u001b[0m\u001b[0mtime\u001b[0m\u001b[1;33m(\u001b[0m\u001b[1;33m)\u001b[0m\u001b[1;33m\u001b[0m\u001b[1;33m\u001b[0m\u001b[0m\n\u001b[1;32m---> 31\u001b[1;33m \u001b[0mll_value\u001b[0m \u001b[1;33m=\u001b[0m \u001b[0mloglikelihood\u001b[0m\u001b[1;33m.\u001b[0m\u001b[0mevaluate\u001b[0m\u001b[1;33m(\u001b[0m\u001b[0mclick_model\u001b[0m\u001b[1;33m,\u001b[0m \u001b[0mtest_sessions\u001b[0m\u001b[1;33m)\u001b[0m\u001b[1;33m\u001b[0m\u001b[1;33m\u001b[0m\u001b[0m\n\u001b[0m\u001b[0;32m     32\u001b[0m \u001b[0mend\u001b[0m \u001b[1;33m=\u001b[0m \u001b[0mtime\u001b[0m\u001b[1;33m.\u001b[0m\u001b[0mtime\u001b[0m\u001b[1;33m(\u001b[0m\u001b[1;33m)\u001b[0m\u001b[1;33m\u001b[0m\u001b[1;33m\u001b[0m\u001b[0m\n\u001b[0;32m     33\u001b[0m \u001b[0mprint\u001b[0m \u001b[1;33m(\u001b[0m\u001b[1;34m\"\\tlog-likelihood: %f; time: %i secs\"\u001b[0m\u001b[1;33m)\u001b[0m \u001b[1;33m%\u001b[0m \u001b[1;33m(\u001b[0m\u001b[0mll_value\u001b[0m\u001b[1;33m,\u001b[0m \u001b[0mend\u001b[0m \u001b[1;33m-\u001b[0m \u001b[0mstart\u001b[0m\u001b[1;33m)\u001b[0m\u001b[1;33m\u001b[0m\u001b[1;33m\u001b[0m\u001b[0m\n",
      "\u001b[1;32mC:\\ProgramData\\Anaconda3\\lib\\site-packages\\pyclick\\click_models\\Evaluation.py\u001b[0m in \u001b[0;36mevaluate\u001b[1;34m(self, click_model, search_sessions)\u001b[0m\n\u001b[0;32m     54\u001b[0m             \u001b[0mlog_click_probs\u001b[0m \u001b[1;33m=\u001b[0m \u001b[1;33m[\u001b[0m\u001b[0mmath\u001b[0m\u001b[1;33m.\u001b[0m\u001b[0mlog\u001b[0m\u001b[1;33m(\u001b[0m\u001b[0mprob\u001b[0m\u001b[1;33m)\u001b[0m \u001b[1;32mfor\u001b[0m \u001b[0mprob\u001b[0m \u001b[1;32min\u001b[0m \u001b[0mclick_probs\u001b[0m\u001b[1;33m]\u001b[0m\u001b[1;33m\u001b[0m\u001b[1;33m\u001b[0m\u001b[0m\n\u001b[0;32m     55\u001b[0m             \u001b[0mloglikelihood\u001b[0m \u001b[1;33m+=\u001b[0m \u001b[0msum\u001b[0m\u001b[1;33m(\u001b[0m\u001b[0mlog_click_probs\u001b[0m\u001b[1;33m)\u001b[0m \u001b[1;33m/\u001b[0m \u001b[0mlen\u001b[0m\u001b[1;33m(\u001b[0m\u001b[0mlog_click_probs\u001b[0m\u001b[1;33m)\u001b[0m\u001b[1;33m\u001b[0m\u001b[1;33m\u001b[0m\u001b[0m\n\u001b[1;32m---> 56\u001b[1;33m         \u001b[0mloglikelihood\u001b[0m \u001b[1;33m/=\u001b[0m \u001b[0mlen\u001b[0m\u001b[1;33m(\u001b[0m\u001b[0msearch_sessions\u001b[0m\u001b[1;33m)\u001b[0m\u001b[1;33m\u001b[0m\u001b[1;33m\u001b[0m\u001b[0m\n\u001b[0m\u001b[0;32m     57\u001b[0m \u001b[1;33m\u001b[0m\u001b[0m\n\u001b[0;32m     58\u001b[0m         \u001b[1;32mreturn\u001b[0m \u001b[0mloglikelihood\u001b[0m\u001b[1;33m\u001b[0m\u001b[1;33m\u001b[0m\u001b[0m\n",
      "\u001b[1;31mZeroDivisionError\u001b[0m: division by zero"
     ],
     "output_type": "error"
    }
   ],
   "source": [
    "click_model = PBM()\n",
    "search_sessions_path = 'PyClick-master/PyClick-master/examples/data/YandexPersonalizedChallenge'\n",
    "search_sessions_num = 24615 \n",
    "\n",
    "search_sessions = YandexRelPredChallengeParser().parse(search_sessions_path, search_sessions_num)\n",
    "\n",
    "train_test_split = int(len(search_sessions) * 1)\n",
    "train_sessions = search_sessions[:train_test_split]\n",
    "train_queries = Utils.get_unique_queries(search_sessions)\n",
    "\n",
    "test_sessions = Utils.filter_sessions(search_sessions[train_test_split:], train_queries)\n",
    "test_queries = Utils.get_unique_queries(test_sessions)\n",
    "\n",
    "print (\"-------------------------------\")\n",
    "print (\"Training on %d search sessions (%d unique queries).\" % (len(train_sessions), len(train_queries)))\n",
    "print (\"-------------------------------\")\n",
    "\n",
    "start = time.time()\n",
    "click_model.train(train_sessions)\n",
    "end = time.time()\n",
    "print (\"\\tTrained %s click model in %i secs\" % (click_model.__class__.__name__, end - start))\n",
    "\n",
    "print (\"-------------------------------\")\n",
    "print (\"Testing on %d search sessions (%d unique queries).\" % (len(test_sessions), len(test_queries)))\n",
    "print (\"-------------------------------\")\n",
    "\n",
    "loglikelihood = LogLikelihood()\n",
    "perplexity = Perplexity()\n",
    "\n",
    "start = time.time()\n",
    "ll_value = loglikelihood.evaluate(click_model, test_sessions)\n",
    "end = time.time()\n",
    "print (\"\\tlog-likelihood: %f; time: %i secs\") % (ll_value, end - start)\n",
    "\n",
    "start = time.time()\n",
    "perp_value = perplexity.evaluate(click_model, test_sessions)[0]\n",
    "end = time.time()\n",
    "print (\"\\tperplexity: %f; time: %i secs\") % (perp_value, end - start)"
   ]
  },
  {
   "cell_type": "code",
   "execution_count": 6,
   "metadata": {},
   "outputs": [
    {
     "name": "stdout",
     "output_type": "stream",
     "text": [
      "{\"query\": \"0\", \"task\": \"34573635\", \"web_results\": [{\"click\": 0, \"id\": \"2947180,4807111\"}, {\"click\": 0, \"id\": \"44298735,3856435\"}, {\"click\": 0, \"id\": \"41815016,3712040\"}, {\"click\": 0, \"id\": \"62677540,4816463\"}, {\"click\": 0, \"id\": \"13753389,1410278\"}, {\"click\": 0, \"id\": \"3336907,452020\"}, {\"click\": 0, \"id\": \"67724115,5086282\"}, {\"click\": 0, \"id\": \"22354391,2254454\"}, {\"click\": 0, \"id\": \"4606079,608280\"}, {\"click\": 0, \"id\": \"37985498,3486878\"}, {\"click\": 0, \"id\": \"53161116,4334277\"}]}\n",
      "<class 'pyclick.click_models.task_centric.TaskCentricSearchSession.TaskCentricSearchSession'>\n"
     ]
    }
   ],
   "source": [
    "print(search_sessions[1])\n",
    "print(type(search_sessions[2]))"
   ]
  },
  {
   "cell_type": "code",
   "execution_count": 7,
   "metadata": {},
   "outputs": [
    {
     "name": "stdout",
     "output_type": "stream",
     "text": [
      "PBMParamNames.attr\n",
      "all_container 42\n",
      "PBMParamNames.exam\n",
      "all_container 10\n"
     ]
    }
   ],
   "source": [
    "for param_name, param in click_model.params.items():\n",
    "    print(param_name)\n",
    "    if param_name == 'PBMParamNames.attr':\n",
    "        print(len(param._container['0']))\n",
    "    print('all_container',len(param._container))"
   ]
  },
  {
   "cell_type": "code",
   "execution_count": 50,
   "metadata": {},
   "outputs": [
    {
     "data": {
      "text/plain": [
       "dict_items([(<PBMParamNames.attr: 1>, ), (<PBMParamNames.exam: 2>, 0.5000 0.5000 0.5000 0.5000 0.5000 0.5000 0.5000 0.5000 0.5000 0.5000\n",
       ")])"
      ]
     },
     "execution_count": 50,
     "metadata": {},
     "output_type": "execute_result"
    }
   ],
   "source": [
    "PBM().params.items()"
   ]
  },
  {
   "cell_type": "markdown",
   "metadata": {},
   "source": [
    "Estimation des parametres"
   ]
  },
  {
   "cell_type": "code",
   "execution_count": 53,
   "metadata": {},
   "outputs": [
    {
     "data": {
      "text/plain": [
       "dict_items([(<PBMParamNames.attr: 1>, 0: {'3140263,2771769,3809197': 0.5000, '34175267,3279130': 0.5000, '34171511,3279018': 0.5000, '35444452,3339757': 0.5000, '15370141,1583351': 0.5000, '31342884,3075887': 0.5000, '43630531,3823198': 0.5000, '26065978,2597528': 0.5000, '29902424,2902450': 0.5000, '39016998,3549467': 0.5000, '62861215,4825939': 0.5000}\n",
       "), (<PBMParamNames.exam: 2>, 0.5000 0.5000 0.5000 0.5000 0.5000 0.5000 0.5000 0.5000 0.5000 0.5000\n",
       ")])"
      ]
     },
     "execution_count": 53,
     "metadata": {},
     "output_type": "execute_result"
    }
   ],
   "source": [
    "click_model.params.items()"
   ]
  },
  {
   "cell_type": "code",
   "execution_count": 51,
   "metadata": {},
   "outputs": [
    {
     "name": "stdout",
     "output_type": "stream",
     "text": [
      "dict_items([(<PBMParamNames.attr: 1>, 0: {'3140263,2771769,3809197': 0.5000, '34175267,3279130': 0.5000, '34171511,3279018': 0.5000, '35444452,3339757': 0.5000, '15370141,1583351': 0.5000, '31342884,3075887': 0.5000, '43630531,3823198': 0.5000, '26065978,2597528': 0.5000, '29902424,2902450': 0.5000, '39016998,3549467': 0.5000, '62861215,4825939': 0.5000}\n",
      "), (<PBMParamNames.exam: 2>, 0.5000 0.5000 0.5000 0.5000 0.5000 0.5000 0.5000 0.5000 0.5000 0.5000\n",
      ")])\n"
     ]
    }
   ],
   "source": [
    "print(click_model.params.items())"
   ]
  },
  {
   "cell_type": "code",
   "execution_count": null,
   "metadata": {},
   "outputs": [],
   "source": [
    "dict_items([(<PBMParamNames.attr: 1>, 0: {'3140263,2771769,3809197': 0.5000, '34175267,3279130': 0.5000, '34171511,3279018': 0.5000, '35444452,3339757': 0.5000, '15370141,1583351': 0.5000, '31342884,3075887': 0.5000, '43630531,3823198': 0.5000, '26065978,2597528': 0.5000, '29902424,2902450': 0.5000, '39016998,3549467': 0.5000, '62861215,4825939': 0.5000}\n",
    "), (<PBMParamNames.exam: 2>, 0.5000 0.5000 0.5000 0.5000 0.5000 0.5000 0.5000 0.5000 0.5000 0.5000\n",
    ")])"
   ]
  },
  {
   "cell_type": "code",
   "execution_count": 9,
   "metadata": {},
   "outputs": [],
   "source": [
    "for param_name, param_container in self.params.items():\n",
    "    param = param_container.get_for_session_at_rank(search_session, rank)\n",
    "    param_dict[param_name] = param"
   ]
  },
  {
   "cell_type": "code",
   "execution_count": 10,
   "metadata": {},
   "outputs": [
    {
     "data": {
      "text/plain": [
       "{}"
      ]
     },
     "execution_count": 10,
     "metadata": {},
     "output_type": "execute_result"
    }
   ],
   "source": [
    "param_dict"
   ]
  },
  {
   "cell_type": "code",
   "execution_count": 36,
   "metadata": {},
   "outputs": [
    {
     "name": "stdout",
     "output_type": "stream",
     "text": [
      "{\"query\": \"0\", \"task\": \"34573630\", \"web_results\": [{\"click\": 0, \"id\": \"3140263,2771769,3809197\"}, {\"click\": 0, \"id\": \"34175267,3279130\"}, {\"click\": 0, \"id\": \"34171511,3279018\"}, {\"click\": 0, \"id\": \"35444452,3339757\"}, {\"click\": 0, \"id\": \"15370141,1583351\"}, {\"click\": 0, \"id\": \"31342884,3075887\"}, {\"click\": 0, \"id\": \"43630531,3823198\"}, {\"click\": 0, \"id\": \"26065978,2597528\"}, {\"click\": 0, \"id\": \"29902424,2902450\"}, {\"click\": 0, \"id\": \"39016998,3549467\"}, {\"click\": 0, \"id\": \"62861215,4825939\"}]}\n",
      "{}\n",
      "{\"query\": \"0\", \"task\": \"34573635\", \"web_results\": [{\"click\": 0, \"id\": \"2947180,4807111\"}, {\"click\": 0, \"id\": \"44298735,3856435\"}, {\"click\": 0, \"id\": \"41815016,3712040\"}, {\"click\": 0, \"id\": \"62677540,4816463\"}, {\"click\": 0, \"id\": \"13753389,1410278\"}, {\"click\": 0, \"id\": \"3336907,452020\"}, {\"click\": 0, \"id\": \"67724115,5086282\"}, {\"click\": 0, \"id\": \"22354391,2254454\"}, {\"click\": 0, \"id\": \"4606079,608280\"}, {\"click\": 0, \"id\": \"37985498,3486878\"}, {\"click\": 0, \"id\": \"53161116,4334277\"}]}\n",
      "{}\n",
      "{\"query\": \"1\", \"task\": \"34573635\", \"web_results\": [{\"click\": 0, \"id\": \"2947180,2505513\"}, {\"click\": 0, \"id\": \"26094562,2597528\"}, {\"click\": 0, \"id\": \"26224942,2597528\"}, {\"click\": 0, \"id\": \"26332019,2597528\"}, {\"click\": 0, \"id\": \"7916930,943850\"}, {\"click\": 0, \"id\": \"6134673,787424\"}, {\"click\": 0, \"id\": \"13575092,1390854\"}, {\"click\": 0, \"id\": \"26498978,2597532\"}, {\"click\": 0, \"id\": \"35675584,3359550\"}, {\"click\": 0, \"id\": \"40372610,3611639\"}, {\"click\": 0, \"id\": \"38125754,3494430\"}]}\n",
      "{}\n",
      "{\"query\": \"0\", \"task\": \"34573638\", \"web_results\": [{\"click\": 0, \"id\": \"4689123,4245366,3185800,4500585,3422556\"}, {\"click\": 0, \"id\": \"39399823,3562233\"}, {\"click\": 0, \"id\": \"39305442,3562125\"}, {\"click\": 0, \"id\": \"22429663,2254511\"}, {\"click\": 0, \"id\": \"17351885,1822164\"}, {\"click\": 0, \"id\": \"40309069,3608744\"}, {\"click\": 0, \"id\": \"1024656,152862\"}, {\"click\": 0, \"id\": \"68110222,5106321\"}, {\"click\": 0, \"id\": \"2740425,387259\"}, {\"click\": 0, \"id\": \"56029551,4462224\"}, {\"click\": 0, \"id\": \"26100016,2597528\"}]}\n",
      "{}\n"
     ]
    }
   ],
   "source": [
    "for search_session in search_sessions[:4]:\n",
    "    for rank, result in enumerate(search_session.web_results):\n",
    "            param_dict = {}\n",
    "    print (search_session)\n",
    "    print (param_dict)"
   ]
  },
  {
   "cell_type": "code",
   "execution_count": 62,
   "metadata": {},
   "outputs": [],
   "source": [
    "search_sessions = YandexRelPredChallengeParser().parse('PyClick-master/PyClick-master/examples/data/YandexPersonalizedChallenge', 50000)"
   ]
  },
  {
   "cell_type": "code",
   "execution_count": 70,
   "metadata": {},
   "outputs": [
    {
     "data": {
      "text/plain": [
       "24615"
      ]
     },
     "execution_count": 70,
     "metadata": {},
     "output_type": "execute_result"
    }
   ],
   "source": [
    "len(search_sessions)"
   ]
  },
  {
   "cell_type": "code",
   "execution_count": 63,
   "metadata": {},
   "outputs": [],
   "source": [
    "nb_click=0\n",
    "nb_sessionwithclick=0\n",
    "for session in search_sessions[:10]:\n",
    "    if session.get_last_click_rank()<11:\n",
    "        print (session.query)\n",
    "        nb_sessionwithclick+=1\n",
    "    nb_click+=sum(session.get_clicks())"
   ]
  },
  {
   "cell_type": "code",
   "execution_count": 64,
   "metadata": {},
   "outputs": [
    {
     "name": "stdout",
     "output_type": "stream",
     "text": [
      "nb_click 0\n",
      "nb_sessionwithclick 0\n"
     ]
    }
   ],
   "source": [
    "print ('nb_click',nb_click)\n",
    "print('nb_sessionwithclick',nb_sessionwithclick)"
   ]
  },
  {
   "cell_type": "markdown",
   "metadata": {},
   "source": [
    "## Création Données simulée"
   ]
  },
  {
   "cell_type": "code",
   "execution_count": 6,
   "metadata": {},
   "outputs": [
    {
     "name": "stdout",
     "output_type": "stream",
     "text": [
      "[<pyclick.search_session.SearchResult.SearchResult object at 0x0000018410019A58>, <pyclick.search_session.SearchResult.SearchResult object at 0x0000018410019B00>, <pyclick.search_session.SearchResult.SearchResult object at 0x0000018410019B38>, <pyclick.search_session.SearchResult.SearchResult object at 0x0000018410019B70>, <pyclick.search_session.SearchResult.SearchResult object at 0x0000018410019BA8>, <pyclick.search_session.SearchResult.SearchResult object at 0x0000018410019BE0>, <pyclick.search_session.SearchResult.SearchResult object at 0x0000018410019C18>, <pyclick.search_session.SearchResult.SearchResult object at 0x0000018410019C50>, <pyclick.search_session.SearchResult.SearchResult object at 0x0000018410019C88>, <pyclick.search_session.SearchResult.SearchResult object at 0x0000018410019CC0>, <pyclick.search_session.SearchResult.SearchResult object at 0x0000018410019CF8>]\n"
     ]
    }
   ],
   "source": [
    "print (search_sessions[1].web_results)"
   ]
  },
  {
   "cell_type": "code",
   "execution_count": 4,
   "metadata": {},
   "outputs": [],
   "source": [
    "from pyclick.click_models.task_centric.TaskCentricSearchSession import TaskCentricSearchSession\n",
    "essai_TCSS = TaskCentricSearchSession('Reco',1)"
   ]
  },
  {
   "cell_type": "code",
   "execution_count": 5,
   "metadata": {},
   "outputs": [],
   "source": [
    "from pyclick.search_session.SearchResult import SearchResult\n",
    "sr =SearchResult('MEJD',1)"
   ]
  },
  {
   "cell_type": "code",
   "execution_count": 12,
   "metadata": {},
   "outputs": [
    {
     "data": {
      "text/plain": [
       "1"
      ]
     },
     "execution_count": 12,
     "metadata": {},
     "output_type": "execute_result"
    }
   ],
   "source": [
    "sr.click"
   ]
  },
  {
   "cell_type": "code",
   "execution_count": 6,
   "metadata": {},
   "outputs": [],
   "source": [
    "def simule_log_Pyclick(nb_reco,theta,kappa):\n",
    "    search_sessions=[]\n",
    "    nb_position = len(kappa)\n",
    "    nb_item = len(theta)\n",
    "    indice_item = [x for x in range(nb_item)]\n",
    "    for reco in range(nb_reco):\n",
    "        #print('recommandation numero = ',reco)\n",
    "        web_results =[]\n",
    "        ### tire aléatoirement la présentation des produits :\n",
    "        proposition=sample(indice_item,nb_position)\n",
    "        #print ('produits proposes',proposition)\n",
    "        for pos in range(len(proposition)):\n",
    "            #print ('a la position', pos )\n",
    "            index_produit = proposition[pos]\n",
    "            #print('je propose',index_produit)\n",
    "            is_view = int(random() < kappa[pos])\n",
    "            is_click= int(random() < theta[index_produit])\n",
    "            web_results.append(SearchResult(index_produit,is_view*is_click))\n",
    "        ###simulation comportement\n",
    "        search_sessions.append(TaskCentricSearchSession(reco,'Reco'))\n",
    "        search_sessions[-1].web_results = web_results\n",
    "    return(search_sessions)"
   ]
  },
  {
   "cell_type": "code",
   "execution_count": 7,
   "metadata": {},
   "outputs": [
    {
     "name": "stdout",
     "output_type": "stream",
     "text": [
      "[{\"query\": \"Reco\", \"task\": 0, \"web_results\": [{\"click\": 1, \"id\": 0}, {\"click\": 0, \"id\": 7}, {\"click\": 0, \"id\": 3}, {\"click\": 0, \"id\": 2}, {\"click\": 0, \"id\": 1}]}, {\"query\": \"Reco\", \"task\": 1, \"web_results\": [{\"click\": 1, \"id\": 2}, {\"click\": 0, \"id\": 6}, {\"click\": 1, \"id\": 0}, {\"click\": 0, \"id\": 4}, {\"click\": 0, \"id\": 3}]}, {\"query\": \"Reco\", \"task\": 2, \"web_results\": [{\"click\": 1, \"id\": 2}, {\"click\": 0, \"id\": 7}, {\"click\": 0, \"id\": 8}, {\"click\": 0, \"id\": 1}, {\"click\": 1, \"id\": 3}]}, {\"query\": \"Reco\", \"task\": 3, \"web_results\": [{\"click\": 0, \"id\": 7}, {\"click\": 1, \"id\": 0}, {\"click\": 0, \"id\": 9}, {\"click\": 0, \"id\": 4}, {\"click\": 0, \"id\": 5}]}]\n"
     ]
    }
   ],
   "source": [
    "kappas = [1,0.7,0.5,0.5,0.3]\n",
    "thetas = [0.9,0.3,0.5,0.4,0.1,0.2,0.5,0.1,0.8,0.4]\n",
    "simul_TS = simule_log_Pyclick(500,thetas,kappas)\n",
    "print(simul_TS[:4])"
   ]
  },
  {
   "cell_type": "code",
   "execution_count": 8,
   "metadata": {},
   "outputs": [
    {
     "name": "stdout",
     "output_type": "stream",
     "text": [
      "-------------------------------\n",
      "Training on 500 search sessions (500 unique queries).\n",
      "-------------------------------\n",
      "\tTrained PBM click model in 3 secs\n"
     ]
    }
   ],
   "source": [
    "click_model = PBM()\n",
    "\n",
    "print (\"-------------------------------\")\n",
    "print (\"Training on %d search sessions (%d unique queries).\" % (len(simul_TS), len(simul_TS)))\n",
    "print (\"-------------------------------\")\n",
    "\n",
    "start = time.time()\n",
    "click_model.train(simul_TS)\n",
    "end = time.time()\n",
    "print (\"\\tTrained %s click model in %i secs\" % (click_model.__class__.__name__, end - start))\n"
   ]
  },
  {
   "cell_type": "code",
   "execution_count": 11,
   "metadata": {},
   "outputs": [
    {
     "data": {
      "text/plain": [
       "PBMParamNames.attr\n",
       "Reco: {1: 0.3302, 8: 0.8782, 5: 0.1449, 4: 0.0849, 9: 0.4633, 3: 0.4561, 0: 0.9239, 6: 0.5891, 2: 0.5117, 7: 0.1203}\n",
       "\n",
       "PBMParamNames.exam\n",
       "0.9167 0.5643 0.4554 0.4766 0.2312 0.5000 0.5000 0.5000 0.5000 0.5000\n"
      ]
     },
     "execution_count": 11,
     "metadata": {},
     "output_type": "execute_result"
    }
   ],
   "source": [
    "click_model"
   ]
  },
  {
   "cell_type": "code",
   "execution_count": 2,
   "metadata": {},
   "outputs": [],
   "source": [
    "kappas = [1,0.7,0.5,0.5,0.3]\n",
    "thetas = [0.9,0.3,0.5,0.4,0.1,0.2,0.5,0.1,0.8,0.4]"
   ]
  },
  {
   "cell_type": "code",
   "execution_count": 28,
   "metadata": {},
   "outputs": [
    {
     "name": "stdout",
     "output_type": "stream",
     "text": [
      "PBMParamNames.attr\n",
      "PBMParamNames.exam\n"
     ]
    }
   ],
   "source": [
    "param =[]\n",
    "for i,j in enumerate(click_model.params) :\n",
    "    print(j)\n",
    "    param.append(click_model.params[j])"
   ]
  },
  {
   "cell_type": "code",
   "execution_count": 53,
   "metadata": {},
   "outputs": [
    {
     "data": {
      "text/plain": [
       "float"
      ]
     },
     "execution_count": 53,
     "metadata": {},
     "output_type": "execute_result"
    }
   ],
   "source": [
    "type(param[1]._container[3].value())"
   ]
  },
  {
   "cell_type": "code",
   "execution_count": 43,
   "metadata": {},
   "outputs": [],
   "source": [
    "def extract_kappa(clickmodel,nb_position):\n",
    "    param =[]\n",
    "    for i,j in enumerate(click_model.params) :\n",
    "        param.append(click_model.params[j])\n",
    "    kappa=[]\n",
    "    for i in range(nb_position):\n",
    "        print(type(param[1]))\n",
    "        print()\n",
    "        kappa.append(param[1]._container[i])\n",
    "    return kappa"
   ]
  },
  {
   "cell_type": "code",
   "execution_count": 44,
   "metadata": {},
   "outputs": [
    {
     "data": {
      "text/plain": [
       "[0.9167, 0.5643, 0.4554, 0.4766, 0.2312]"
      ]
     },
     "execution_count": 44,
     "metadata": {},
     "output_type": "execute_result"
    }
   ],
   "source": [
    "extract_kappa(click_model,5)"
   ]
  },
  {
   "cell_type": "code",
   "execution_count": 6,
   "metadata": {},
   "outputs": [
    {
     "name": "stdout",
     "output_type": "stream",
     "text": [
      "-------------------------------\n",
      "Training on 0 search sessions (0 unique queries).\n",
      "-------------------------------\n",
      "\tTrained PBM click model in 0 secs\n"
     ]
    }
   ],
   "source": [
    "click_model = PBM()\n",
    "\n",
    "print (\"-------------------------------\")\n",
    "print (\"Training on %d search sessions (%d unique queries).\" % (len([]), len([])))\n",
    "print (\"-------------------------------\")\n",
    "\n",
    "start = time.time()\n",
    "click_model.train([])\n",
    "end = time.time()\n",
    "print (\"\\tTrained %s click model in %i secs\" % (click_model.__class__.__name__, end - start))\n"
   ]
  }
 ],
 "metadata": {
  "kernelspec": {
   "display_name": "Python 3",
   "language": "python",
   "name": "python3"
  },
  "language_info": {
   "codemirror_mode": {
    "name": "ipython",
    "version": 3
   },
   "file_extension": ".py",
   "mimetype": "text/x-python",
   "name": "python",
   "nbconvert_exporter": "python",
   "pygments_lexer": "ipython3",
   "version": "3.7.3"
  }
 },
 "nbformat": 4,
 "nbformat_minor": 2
}
