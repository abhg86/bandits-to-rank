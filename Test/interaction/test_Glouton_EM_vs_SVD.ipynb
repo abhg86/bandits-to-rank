{
 "cells": [
  {
   "cell_type": "markdown",
   "metadata": {},
   "source": [
    "## Test greedy EM vs SVD"
   ]
  },
  {
   "cell_type": "code",
   "execution_count": 1,
   "metadata": {},
   "outputs": [],
   "source": [
    "import sys\n",
    "sys.path.insert(0, 'C:\\\\Users\\\\gauthieca\\\\Desktop\\\\Code_ Thèse\\\\bandits-to-rank')"
   ]
  },
  {
   "cell_type": "code",
   "execution_count": 2,
   "metadata": {},
   "outputs": [],
   "source": [
    "from bandits_to_rank.bandits import *\n",
    "from bandits_to_rank.environment import *\n",
    "from bandits_to_rank.referee import *\n",
    "from bandits_to_rank.opponents import oracle,random_player,greedy,bc_mpts\n",
    "\n",
    "from bandits_to_rank.sampling.pbm_inference import EM, SVD\n",
    "\n",
    "import time\n",
    "import json\n",
    "import numpy as np\n",
    "import pandas as pd\n",
    "import matplotlib.pyplot as plt\n",
    "from math import floor, log\n",
    "from random import shuffle\n",
    "from copy import deepcopy\n",
    "\n",
    "\n",
    "%reload_ext autoreload\n",
    "%autoreload 2 "
   ]
  },
  {
   "cell_type": "code",
   "execution_count": 3,
   "metadata": {},
   "outputs": [],
   "source": [
    "def time_sec_to_HMS(sec):\n",
    "    heure=sec//3600\n",
    "    rest_h=sec%3600\n",
    "    minute=rest_h//60\n",
    "    rest_m=rest_h%60\n",
    "\n",
    "    return(str(int(heure))+'H '+str(int(minute))+'min '+str(int(rest_m))+'sec')"
   ]
  },
  {
   "cell_type": "markdown",
   "metadata": {},
   "source": [
    "## Teste EM"
   ]
  },
  {
   "cell_type": "code",
   "execution_count": 10,
   "metadata": {},
   "outputs": [],
   "source": [
    "def simule_log_Pyclick(pbm_model, nb_sessions, thetas, kappas):\n",
    "    nb_positions = len(kappas)\n",
    "    nb_items = len(thetas)\n",
    "    player = random_player.Random(nb_items, nb_positions)\n",
    "    env = Environment_PBM(thetas, kappas)\n",
    "\n",
    "    for t in range(nb_sessions) :\n",
    "        propositions = player.choose_next_arm()\n",
    "        rewards = env.get_reward(propositions)\n",
    "        pbm_model.add_session(propositions,rewards)\n"
   ]
  },
  {
   "cell_type": "code",
   "execution_count": 12,
   "metadata": {},
   "outputs": [
    {
     "name": "stdout",
     "output_type": "stream",
     "text": [
      "with 100 sessions\n",
      "Wall time: 591 ms\n",
      "0.11032195777972495\n",
      "[ 0.12063253 -0.1721159  -0.05639827 -0.0364264 ]\n",
      "0.12112043228997102\n",
      "[0.09118201 0.13766658 0.1293995 ]\n",
      "with 1000 sessions\n",
      "Wall time: 4.17 s\n",
      "0.0762567624935842\n",
      "[-0.07618485 -0.12013562 -0.00704474 -0.05453484]\n",
      "0.09762245633682029\n",
      "[0.13230142 0.01301141 0.1044867 ]\n",
      "with 10000 sessions\n",
      "Wall time: 36.8 s\n",
      "0.07783688642127204\n",
      "[-0.0640943  -0.09312979 -0.0289427  -0.10303109]\n",
      "0.09134418522307292\n",
      "[0.11338304 0.06663143 0.08795351]\n"
     ]
    }
   ],
   "source": [
    "thetas = [0.5, 0.7 ,0.2 ,0.8]\n",
    "kappas = [1, 0.5, 0.7]\n",
    "for nb_sessions in  [100, 1000, 10000]:\n",
    "    print(\"with\", nb_sessions, \"sessions\")\n",
    "    pbm_model = EM(len(thetas), len(kappas))\n",
    "    simule_log_Pyclick(pbm_model, nb_sessions, thetas, kappas)\n",
    "    %time pbm_model.learn()\n",
    "    thetas_hat, kappas_hat = pbm_model.get_params()\n",
    "    print(np.sqrt(((thetas-thetas_hat)**2).mean()))\n",
    "    print(thetas-thetas_hat)\n",
    "    print(np.sqrt(((kappas-kappas_hat)**2).mean()))\n",
    "    print(kappas-kappas_hat)\n",
    "      "
   ]
  },
  {
   "cell_type": "markdown",
   "metadata": {},
   "source": [
    "## Tests Egreedy"
   ]
  },
  {
   "cell_type": "code",
   "execution_count": 4,
   "metadata": {},
   "outputs": [],
   "source": [
    "kappas_desord = [1,0.7,0.3,0.75,0.1]\n",
    "thetas = [0.9,0.3,0.5,0.4,0.1,0.2,0.5,0.1,0.8,0.4]\n",
    "nb_prop = len(thetas)  \n",
    "nb_place = len(kappas_desord)"
   ]
  },
  {
   "cell_type": "code",
   "execution_count": 5,
   "metadata": {},
   "outputs": [],
   "source": [
    "pas = 10\n",
    "c = 100\n",
    "env = Environment_PBM(thetas,kappas_desord)\n",
    "\n",
    " \n",
    "\n",
    "player_d_Oracle = oracle.Oracle(env.get_best_index())\n",
    "player_d_Random = random_player.Random(nb_prop,nb_place)\n",
    "\n"
   ]
  },
  {
   "cell_type": "markdown",
   "metadata": {},
   "source": [
    "### Game 20 Trial 5000"
   ]
  },
  {
   "cell_type": "code",
   "execution_count": 6,
   "metadata": {},
   "outputs": [],
   "source": [
    "nb_trial = 5000\n",
    "nb_game = 20\n",
    "\n",
    "referee_Oracle_5000trials_20games_desord = Referee(env,nb_trial)\n",
    "referee_Random_5000trials_20games_desord = Referee(env,nb_trial)\n",
    "\n",
    "\n",
    "referee_EGreedy_EM_n_MAJ_1_5000trials_20games_desord = Referee(env,nb_trial)\n",
    "referee_EGreedy_SVD_n_MAJ_1_5000trials_20games_desord = Referee(env,nb_trial)\n",
    "\n",
    "referee_greedy_EM_n_MAJ_1_5000trials_20games_desord = Referee(env,nb_trial)\n",
    "referee_greedy_SVD_n_MAJ_1_5000trials_20games_desord = Referee(env,nb_trial)\n",
    "\n",
    "referee_EGreedy_EM_n_MAJ_5_5000trials_20games_desord = Referee(env,nb_trial)\n",
    "referee_EGreedy_SVD_n_MAJ_5_5000trials_20games_desord = Referee(env,nb_trial)\n",
    "referee_greedy_EM_n_MAJ_5_5000trials_20games_desord = Referee(env,nb_trial)\n",
    "referee_greedy_SVD_n_MAJ_5_5000trials_20games_desord = Referee(env,nb_trial)\n",
    "\n",
    "\n",
    "referee_EGreedy_EM_n_MAJ_10_5000trials_20games_desord = Referee(env,nb_trial)\n",
    "referee_EGreedy_SVD_n_MAJ_10_5000trials_20games_desord = Referee(env,nb_trial)\n",
    "referee_greedy_EM_n_MAJ_10_5000trials_20games_desord = Referee(env,nb_trial)\n",
    "referee_greedy_SVD_n_MAJ_10_5000trials_20games_desord = Referee(env,nb_trial)"
   ]
  },
  {
   "cell_type": "code",
   "execution_count": 7,
   "metadata": {},
   "outputs": [
    {
     "name": "stdout",
     "output_type": "stream",
     "text": [
      "time : 0H 0min 8sec\n"
     ]
    }
   ],
   "source": [
    "####trop long\n",
    "start = time.time()\n",
    "  \n",
    "for i in range(nb_game):\n",
    "    #print ('#### game '+str(i))\n",
    "    start_game = time.time()\n",
    "    referee_Oracle_5000trials_20games_desord.play_game(player_d_Oracle)\n",
    "    referee_Random_5000trials_20games_desord.play_game(player_d_Random)\n",
    "end = time.time()   \n",
    "print ('time :',time_sec_to_HMS(end-start)) "
   ]
  },
  {
   "cell_type": "code",
   "execution_count": 8,
   "metadata": {},
   "outputs": [
    {
     "name": "stdout",
     "output_type": "stream",
     "text": [
      "time : 0H 1min 41sec\n"
     ]
    }
   ],
   "source": [
    "start = time.time()\n",
    "  \n",
    "for i in range(nb_game):\n",
    "    #print ('#### game '+str(i))\n",
    "    start_game = time.time()\n",
    "    \n",
    "    player_EGreedy_SVD_n_MAJ_1 =  greedy.greedy_EGreedy(c,nb_prop,nb_place,1)\n",
    "    player_greedy_SVD_n_MAJ_1 =  greedy.greedy(nb_prop,nb_place,1)\n",
    "\n",
    "    \n",
    "    referee_EGreedy_SVD_n_MAJ_1_5000trials_20games_desord.play_game(player_EGreedy_SVD_n_MAJ_1)\n",
    "    referee_greedy_SVD_n_MAJ_1_5000trials_20games_desord.play_game(player_greedy_SVD_n_MAJ_1)   \n",
    "    end_game = time.time()   \n",
    "    #print ('time_game :',time_sec_to_HMS(end_game-start_game))\n",
    "end = time.time()   \n",
    "print ('time :',time_sec_to_HMS(end-start)) "
   ]
  },
  {
   "cell_type": "code",
   "execution_count": 9,
   "metadata": {},
   "outputs": [
    {
     "name": "stdout",
     "output_type": "stream",
     "text": [
      "time : 0H 0min 36sec\n"
     ]
    }
   ],
   "source": [
    "start = time.time()\n",
    "  \n",
    "for i in range(nb_game):\n",
    "    #print ('#### game '+str(i))\n",
    "    start_game = time.time()\n",
    "\n",
    "    player_EGreedy_SVD_n_MAJ_5 =  greedy.greedy_EGreedy(c,nb_prop,nb_place,5)\n",
    "\n",
    "    player_greedy_SVD_n_MAJ_5 =  greedy.greedy(nb_prop,nb_place,5)\n",
    "\n",
    "    referee_EGreedy_SVD_n_MAJ_5_5000trials_20games_desord.play_game(player_EGreedy_SVD_n_MAJ_5)\n",
    "    referee_greedy_SVD_n_MAJ_5_5000trials_20games_desord.play_game(player_greedy_SVD_n_MAJ_5)   \n",
    "    end_game = time.time()   \n",
    "    #print ('time_game :',time_sec_to_HMS(end_game-start_game))\n",
    "end = time.time()   \n",
    "print ('time :',time_sec_to_HMS(end-start)) "
   ]
  },
  {
   "cell_type": "code",
   "execution_count": 10,
   "metadata": {},
   "outputs": [
    {
     "name": "stdout",
     "output_type": "stream",
     "text": [
      "time : 0H 0min 31sec\n"
     ]
    }
   ],
   "source": [
    "start = time.time()\n",
    "  \n",
    "for i in range(nb_game):\n",
    "    #print ('#### game '+str(i))\n",
    "    start_game = time.time()\n",
    "    \n",
    "    player_EGreedy_SVD_n_MAJ_10 =  greedy.greedy_EGreedy(c,nb_prop,nb_place,10)\n",
    "    player_greedy_SVD_n_MAJ_10 =  greedy.greedy(nb_prop,nb_place,10)    \n",
    "    \n",
    "    referee_EGreedy_SVD_n_MAJ_10_5000trials_20games_desord.play_game(player_EGreedy_SVD_n_MAJ_10)\n",
    "    referee_greedy_SVD_n_MAJ_10_5000trials_20games_desord.play_game(player_greedy_SVD_n_MAJ_10)   \n",
    "    end_game = time.time()   \n",
    "    #print ('time_game :',time_sec_to_HMS(end_game-start_game))\n",
    "end = time.time()   \n",
    "print ('time :',time_sec_to_HMS(end-start)) "
   ]
  },
  {
   "cell_type": "code",
   "execution_count": 11,
   "metadata": {},
   "outputs": [
    {
     "name": "stdout",
     "output_type": "stream",
     "text": [
      "time : 0H 0min 20sec\n"
     ]
    }
   ],
   "source": [
    "referee_EGreedy_SVD_n_MAJ_1000_5000trials_20games_desord =  Referee(env,nb_trial)\n",
    "referee_greedy_SVD_n_MAJ_1000_5000trials_20games_desord =  Referee(env,nb_trial)\n",
    "\n",
    "start = time.time()\n",
    "  \n",
    "for i in range(nb_game):\n",
    "    #print ('#### game '+str(i))\n",
    "    start_game = time.time()\n",
    "    player_EGreedy_SVD_n_MAJ_1000 =  greedy.greedy_EGreedy(c,nb_prop,nb_place,1000)\n",
    "    player_greedy_SVD_n_MAJ_1000 =  greedy.greedy(nb_prop,nb_place,1000)\n",
    "    \n",
    "    start_Egreedy = time.time()\n",
    "    referee_EGreedy_SVD_n_MAJ_1000_5000trials_20games_desord.play_game(player_EGreedy_SVD_n_MAJ_1000)\n",
    "    end_Egreedy = time.time()   \n",
    "    #print ('time_Egreedy :',time_sec_to_HMS(end_Egreedy-start_Egreedy))\n",
    "    \n",
    "    start_greedy= time.time()\n",
    "    referee_greedy_SVD_n_MAJ_1000_5000trials_20games_desord.play_game(player_greedy_SVD_n_MAJ_1000)\n",
    "    end_greedy = time.time()   \n",
    "    #print ('time__greedy :',time_sec_to_HMS(end_greedy-start_greedy))\n",
    "    \n",
    "    end_game = time.time()   \n",
    "    #print ('time_game :',time_sec_to_HMS(end_game-start_game))\n",
    "end = time.time()   \n",
    "print ('time :',time_sec_to_HMS(end-start)) "
   ]
  },
  {
   "cell_type": "code",
   "execution_count": 12,
   "metadata": {},
   "outputs": [
    {
     "name": "stdout",
     "output_type": "stream",
     "text": [
      "time : 0H 0min 22sec\n"
     ]
    }
   ],
   "source": [
    "referee_EGreedy_SVD_n_MAJ_100_5000trials_20games_desord =  Referee(env,nb_trial)\n",
    "referee_greedy_SVD_n_MAJ_100_5000trials_20games_desord =  Referee(env,nb_trial)\n",
    "\n",
    "start = time.time()\n",
    "  \n",
    "for i in range(nb_game):\n",
    "    #print ('#### game '+str(i))\n",
    "    start_game = time.time()\n",
    "    \n",
    "    player_EGreedy_SVD_n_MAJ_100 =  greedy.greedy_EGreedy(c,nb_prop,nb_place,100)\n",
    "    player_greedy_SVD_n_MAJ_100 =  greedy.greedy(nb_prop,nb_place,100)    \n",
    "    \n",
    "    referee_EGreedy_SVD_n_MAJ_100_5000trials_20games_desord.play_game(player_EGreedy_SVD_n_MAJ_100)\n",
    "    referee_greedy_SVD_n_MAJ_100_5000trials_20games_desord.play_game(player_greedy_SVD_n_MAJ_100)   \n",
    "    end_game = time.time()   \n",
    "    #print ('time_game :',time_sec_to_HMS(end_game-start_game))\n",
    "end = time.time()   \n",
    "print ('time :',time_sec_to_HMS(end-start)) "
   ]
  },
  {
   "cell_type": "code",
   "execution_count": null,
   "metadata": {},
   "outputs": [],
   "source": [
    "####trop long\n",
    "start = time.time()\n",
    "  \n",
    "for i in range(nb_game):\n",
    "    #print ('#### game '+str(i))\n",
    "    start_game = time.time()\n",
    "    \n",
    "    player_EGreedy_EM_n_MAJ_1 =  greedy.greedy_EGreedy_EM(c,nb_prop,nb_place,1)\n",
    "\n",
    "    player_greedy_EM_n_MAJ_1 =  greedy.greedy_EM(nb_prop,nb_place,1)\n",
    "\n",
    "    \n",
    "    print('Egreedy')\n",
    "    start_Egreedy = time.time()\n",
    "    referee_EGreedy_EM_n_MAJ_1_5000trials_20games_desord.play_game(player_EGreedy_EM_n_MAJ_1)\n",
    "    end_Egreedy = time.time()   \n",
    "    print ('time_Egreedy :',time_sec_to_HMS(end_Egreedy-start_Egreedy))\n",
    "    print('greedy')\n",
    "    start_greedy = time.time()\n",
    "    referee_greedy_EM_n_MAJ_1_5000trials_20games_desord.play_game(player_greedy_EM_n_MAJ_1)\n",
    "    end_greedy = time.time()   \n",
    "    print ('time_greedy :',time_sec_to_HMS(end_greedy-start_Egreedy))\n",
    "    \n",
    "    end_game = time.time()   \n",
    "    print ('time_game :',time_sec_to_HMS(end_game-start_game)) \n",
    "end = time.time()   \n",
    "print ('time :',time_sec_to_HMS(end-start)) "
   ]
  },
  {
   "cell_type": "code",
   "execution_count": null,
   "metadata": {},
   "outputs": [],
   "source": [
    "start = time.time()\n",
    "  \n",
    "for i in range(nb_game):\n",
    "    #print ('#### game '+str(i))\n",
    "\n",
    "    player_EGreedy_EM_n_MAJ_5 =  greedy.greedy_EGreedy_EM(c,nb_prop,nb_place,5)\n",
    "    player_greedy_EM_n_MAJ_5 =  greedy.greedy_EM(nb_prop,nb_place,5)\n",
    "    \n",
    "    start_game = time.time()\n",
    "    referee_EGreedy_EM_n_MAJ_5_5000trials_20games_desord.play_game(player_EGreedy_EM_n_MAJ_5)\n",
    "    referee_greedy_EM_n_MAJ_5_5000trials_20games_desord.play_game(player_greedy_EM_n_MAJ_5)   \n",
    "    end_game = time.time()   \n",
    "    print ('time_game :',time_sec_to_HMS(end_game-start_game))\n",
    "end = time.time()   \n",
    "print ('time :',time_sec_to_HMS(end-start)) "
   ]
  },
  {
   "cell_type": "code",
   "execution_count": 10,
   "metadata": {},
   "outputs": [
    {
     "name": "stdout",
     "output_type": "stream",
     "text": [
      "EGreedy (explore)trial n° 300\n",
      "EGreedy (explore)trial n° 600\n",
      "EGreedy (explore)trial n° 700\n",
      "EGreedy (explore)trial n° 800\n",
      "EGreedy (explore)trial n° 900\n",
      "EGreedy (explore)trial n° 1000\n",
      "EGreedy (explore)trial n° 1100\n",
      "EGreedy (explore)trial n° 1200\n",
      "EGreedy (explore)trial n° 1300\n",
      "EGreedy (explore)trial n° 1400\n",
      "EGreedy (explore)trial n° 1500\n",
      "EGreedy (explore)trial n° 1600\n",
      "EGreedy (explore)trial n° 1700\n",
      "EGreedy (explore)trial n° 1800\n",
      "EGreedy (explore)trial n° 1900\n",
      "EGreedy (explore)trial n° 2000\n",
      "EGreedy (explore)trial n° 2100\n",
      "EGreedy (explore)trial n° 2200\n",
      "EGreedy (explore)trial n° 2300\n",
      "EGreedy (explore)trial n° 2400\n",
      "EGreedy (explore)trial n° 2500\n",
      "EGreedy (explore)trial n° 2600\n",
      "EGreedy (explore)trial n° 2700\n",
      "EGreedy (explore)trial n° 2800\n",
      "EGreedy (explore)trial n° 2900\n",
      "EGreedy (explore)trial n° 3000\n",
      "EGreedy (explore)trial n° 3100\n",
      "EGreedy (explore)trial n° 3200\n",
      "EGreedy (explore)trial n° 3300\n",
      "EGreedy (explore)trial n° 3400\n",
      "EGreedy (explore)trial n° 3500\n",
      "EGreedy (explore)trial n° 3600\n",
      "EGreedy (explore)trial n° 3700\n",
      "EGreedy (explore)trial n° 3800\n",
      "EGreedy (explore)trial n° 3900\n",
      "EGreedy (explore)trial n° 4000\n",
      "EGreedy (explore)trial n° 4100\n",
      "EGreedy (explore)trial n° 4200\n",
      "EGreedy (explore)trial n° 4300\n",
      "EGreedy (explore)trial n° 4400\n",
      "EGreedy (explore)trial n° 4500\n",
      "EGreedy (explore)trial n° 4600\n",
      "EGreedy (explore)trial n° 4700\n",
      "EGreedy (explore)trial n° 4800\n",
      "EGreedy (explore)trial n° 4900\n",
      "EGreedy (explore)trial n° 5000\n",
      "Greedy trial n° 100\n",
      "Greedy trial n° 200\n",
      "Greedy trial n° 300\n",
      "Greedy trial n° 400\n",
      "Greedy trial n° 500\n",
      "Greedy trial n° 600\n",
      "Greedy trial n° 700\n",
      "Greedy trial n° 800\n",
      "Greedy trial n° 900\n",
      "Greedy trial n° 1000\n",
      "Greedy trial n° 1100\n",
      "Greedy trial n° 1200\n",
      "Greedy trial n° 1300\n",
      "Greedy trial n° 1400\n",
      "Greedy trial n° 1500\n",
      "Greedy trial n° 1600\n",
      "Greedy trial n° 1700\n",
      "Greedy trial n° 1800\n",
      "Greedy trial n° 1900\n",
      "Greedy trial n° 2000\n",
      "Greedy trial n° 2100\n",
      "Greedy trial n° 2200\n",
      "Greedy trial n° 2300\n",
      "Greedy trial n° 2400\n",
      "Greedy trial n° 2500\n",
      "Greedy trial n° 2600\n",
      "Greedy trial n° 2700\n",
      "Greedy trial n° 2800\n",
      "Greedy trial n° 2900\n",
      "Greedy trial n° 3000\n",
      "Greedy trial n° 3100\n",
      "Greedy trial n° 3200\n",
      "Greedy trial n° 3300\n",
      "Greedy trial n° 3400\n",
      "Greedy trial n° 3500\n",
      "Greedy trial n° 3600\n",
      "Greedy trial n° 3700\n",
      "Greedy trial n° 3800\n",
      "Greedy trial n° 3900\n",
      "Greedy trial n° 4000\n",
      "Greedy trial n° 4100\n",
      "Greedy trial n° 4200\n",
      "Greedy trial n° 4300\n",
      "Greedy trial n° 4400\n",
      "Greedy trial n° 4500\n",
      "Greedy trial n° 4600\n",
      "Greedy trial n° 4700\n",
      "Greedy trial n° 4800\n",
      "Greedy trial n° 4900\n",
      "Greedy trial n° 5000\n",
      "time_game : 5H 31min 33sec\n",
      "EGreedy (explore)trial n° 5100\n",
      "EGreedy (explore)trial n° 5200\n",
      "EGreedy (explore)trial n° 5300\n",
      "EGreedy (explore)trial n° 5400\n",
      "EGreedy (explore)trial n° 5500\n",
      "EGreedy (explore)trial n° 5600\n",
      "EGreedy (explore)trial n° 5700\n"
     ]
    },
    {
     "ename": "KeyboardInterrupt",
     "evalue": "",
     "output_type": "error",
     "traceback": [
      "\u001b[1;31m---------------------------------------------------------------------------\u001b[0m",
      "\u001b[1;31mKeyboardInterrupt\u001b[0m                         Traceback (most recent call last)",
      "\u001b[1;32m<ipython-input-10-98b6708b6f87>\u001b[0m in \u001b[0;36m<module>\u001b[1;34m\u001b[0m\n\u001b[0;32m      4\u001b[0m     \u001b[1;31m#print ('#### game '+str(i))\u001b[0m\u001b[1;33m\u001b[0m\u001b[1;33m\u001b[0m\u001b[1;33m\u001b[0m\u001b[0m\n\u001b[0;32m      5\u001b[0m     \u001b[0mstart_game\u001b[0m \u001b[1;33m=\u001b[0m \u001b[0mtime\u001b[0m\u001b[1;33m.\u001b[0m\u001b[0mtime\u001b[0m\u001b[1;33m(\u001b[0m\u001b[1;33m)\u001b[0m\u001b[1;33m\u001b[0m\u001b[1;33m\u001b[0m\u001b[0m\n\u001b[1;32m----> 6\u001b[1;33m     \u001b[0mreferee_EGreedy_EM_n_MAJ_10_5000trials_20games_desord\u001b[0m\u001b[1;33m.\u001b[0m\u001b[0mplay_game\u001b[0m\u001b[1;33m(\u001b[0m\u001b[0mplayer_EGreedy_EM_n_MAJ_10\u001b[0m\u001b[1;33m)\u001b[0m\u001b[1;33m\u001b[0m\u001b[1;33m\u001b[0m\u001b[0m\n\u001b[0m\u001b[0;32m      7\u001b[0m     \u001b[0mreferee_greedy_EM_n_MAJ_10_5000trials_20games_desord\u001b[0m\u001b[1;33m.\u001b[0m\u001b[0mplay_game\u001b[0m\u001b[1;33m(\u001b[0m\u001b[0mplayer_greedy_EM_n_MAJ_10\u001b[0m\u001b[1;33m)\u001b[0m\u001b[1;33m\u001b[0m\u001b[1;33m\u001b[0m\u001b[0m\n\u001b[0;32m      8\u001b[0m     \u001b[0mend_game\u001b[0m \u001b[1;33m=\u001b[0m \u001b[0mtime\u001b[0m\u001b[1;33m.\u001b[0m\u001b[0mtime\u001b[0m\u001b[1;33m(\u001b[0m\u001b[1;33m)\u001b[0m\u001b[1;33m\u001b[0m\u001b[1;33m\u001b[0m\u001b[0m\n",
      "\u001b[1;32m~\\Desktop\\Code_ Thèse\\bandits-to-rank\\bandits_to_rank\\referee.py\u001b[0m in \u001b[0;36mplay_game\u001b[1;34m(self, player)\u001b[0m\n\u001b[0;32m     44\u001b[0m \u001b[1;33m\u001b[0m\u001b[0m\n\u001b[0;32m     45\u001b[0m         \u001b[1;32mfor\u001b[0m \u001b[0mt\u001b[0m \u001b[1;32min\u001b[0m \u001b[0mrange\u001b[0m\u001b[1;33m(\u001b[0m\u001b[0mself\u001b[0m\u001b[1;33m.\u001b[0m\u001b[0mnb_trials\u001b[0m\u001b[1;33m)\u001b[0m \u001b[1;33m:\u001b[0m\u001b[1;33m\u001b[0m\u001b[1;33m\u001b[0m\u001b[0m\n\u001b[1;32m---> 46\u001b[1;33m             \u001b[0mpropositions\u001b[0m \u001b[1;33m=\u001b[0m \u001b[0mplayer\u001b[0m\u001b[1;33m.\u001b[0m\u001b[0mchoose_next_arm\u001b[0m\u001b[1;33m(\u001b[0m\u001b[1;33m)\u001b[0m\u001b[1;33m\u001b[0m\u001b[1;33m\u001b[0m\u001b[0m\n\u001b[0m\u001b[0;32m     47\u001b[0m             \u001b[0mproposition_over_game\u001b[0m\u001b[1;33m.\u001b[0m\u001b[0mappend\u001b[0m\u001b[1;33m(\u001b[0m\u001b[0mpropositions\u001b[0m\u001b[1;33m)\u001b[0m\u001b[1;33m\u001b[0m\u001b[1;33m\u001b[0m\u001b[0m\n\u001b[0;32m     48\u001b[0m             \u001b[0mexpected_reward\u001b[0m \u001b[1;33m=\u001b[0m \u001b[0mself\u001b[0m\u001b[1;33m.\u001b[0m\u001b[0menv\u001b[0m\u001b[1;33m.\u001b[0m\u001b[0mget_expected_reward\u001b[0m\u001b[1;33m(\u001b[0m\u001b[0mpropositions\u001b[0m\u001b[1;33m)\u001b[0m\u001b[1;33m\u001b[0m\u001b[1;33m\u001b[0m\u001b[0m\n",
      "\u001b[1;32m~\\Desktop\\Code_ Thèse\\bandits-to-rank\\bandits_to_rank\\opponents\\greedy.py\u001b[0m in \u001b[0;36mchoose_next_arm\u001b[1;34m(self, temps_init)\u001b[0m\n\u001b[0;32m    352\u001b[0m         \u001b[1;32melse\u001b[0m\u001b[1;33m:\u001b[0m\u001b[1;33m\u001b[0m\u001b[1;33m\u001b[0m\u001b[0m\n\u001b[0;32m    353\u001b[0m             \u001b[1;31m# exploit\u001b[0m\u001b[1;33m\u001b[0m\u001b[1;33m\u001b[0m\u001b[1;33m\u001b[0m\u001b[0m\n\u001b[1;32m--> 354\u001b[1;33m             \u001b[1;32mreturn\u001b[0m \u001b[0mself\u001b[0m\u001b[1;33m.\u001b[0m\u001b[0mexploit_greedy\u001b[0m\u001b[1;33m(\u001b[0m\u001b[1;33m)\u001b[0m\u001b[1;33m\u001b[0m\u001b[1;33m\u001b[0m\u001b[0m\n\u001b[0m\u001b[0;32m    355\u001b[0m \u001b[1;33m\u001b[0m\u001b[0m\n\u001b[0;32m    356\u001b[0m     \u001b[1;32mdef\u001b[0m \u001b[0mupdate\u001b[0m\u001b[1;33m(\u001b[0m\u001b[0mself\u001b[0m\u001b[1;33m,\u001b[0m \u001b[0mpropositions\u001b[0m\u001b[1;33m,\u001b[0m \u001b[0mrewards\u001b[0m\u001b[1;33m)\u001b[0m\u001b[1;33m:\u001b[0m\u001b[1;33m\u001b[0m\u001b[1;33m\u001b[0m\u001b[0m\n",
      "\u001b[1;32m~\\Desktop\\Code_ Thèse\\bandits-to-rank\\bandits_to_rank\\opponents\\greedy.py\u001b[0m in \u001b[0;36mexploit_greedy\u001b[1;34m(self)\u001b[0m\n\u001b[0;32m    367\u001b[0m             \u001b[1;32melse\u001b[0m \u001b[1;33m:\u001b[0m\u001b[1;33m\u001b[0m\u001b[1;33m\u001b[0m\u001b[0m\n\u001b[0;32m    368\u001b[0m                 \u001b[1;32mif\u001b[0m \u001b[0mself\u001b[0m\u001b[1;33m.\u001b[0m\u001b[0mnb_trials\u001b[0m\u001b[1;33m%\u001b[0m\u001b[0mself\u001b[0m\u001b[1;33m.\u001b[0m\u001b[0mn_MAJ\u001b[0m \u001b[1;33m==\u001b[0m \u001b[1;36m0\u001b[0m \u001b[1;33m:\u001b[0m\u001b[1;33m\u001b[0m\u001b[1;33m\u001b[0m\u001b[0m\n\u001b[1;32m--> 369\u001b[1;33m                     \u001b[0mself\u001b[0m\u001b[1;33m.\u001b[0m\u001b[0mpbm_model\u001b[0m\u001b[1;33m.\u001b[0m\u001b[0mlearn\u001b[0m\u001b[1;33m(\u001b[0m\u001b[1;33m)\u001b[0m\u001b[1;33m\u001b[0m\u001b[1;33m\u001b[0m\u001b[0m\n\u001b[0m\u001b[0;32m    370\u001b[0m                     \u001b[0mself\u001b[0m\u001b[1;33m.\u001b[0m\u001b[0mthetas_pyclic\u001b[0m\u001b[1;33m,\u001b[0m\u001b[0mself\u001b[0m\u001b[1;33m.\u001b[0m\u001b[0mkappas_pyclic\u001b[0m \u001b[1;33m=\u001b[0m   \u001b[0mself\u001b[0m\u001b[1;33m.\u001b[0m\u001b[0mpbm_model\u001b[0m\u001b[1;33m.\u001b[0m\u001b[0mget_params\u001b[0m\u001b[1;33m(\u001b[0m\u001b[1;33m)\u001b[0m\u001b[1;33m\u001b[0m\u001b[1;33m\u001b[0m\u001b[0m\n\u001b[0;32m    371\u001b[0m             \u001b[0mself\u001b[0m\u001b[1;33m.\u001b[0m\u001b[0mnb_trials\u001b[0m \u001b[1;33m+=\u001b[0m \u001b[1;36m1\u001b[0m\u001b[1;33m\u001b[0m\u001b[1;33m\u001b[0m\u001b[0m\n",
      "\u001b[1;32m~\\Desktop\\Code_ Thèse\\bandits-to-rank\\bandits_to_rank\\sampling\\pbm_inference.py\u001b[0m in \u001b[0;36mlearn\u001b[1;34m(self)\u001b[0m\n\u001b[0;32m     35\u001b[0m \u001b[1;33m\u001b[0m\u001b[0m\n\u001b[0;32m     36\u001b[0m     \u001b[1;32mdef\u001b[0m \u001b[0mlearn\u001b[0m\u001b[1;33m(\u001b[0m\u001b[0mself\u001b[0m\u001b[1;33m)\u001b[0m\u001b[1;33m:\u001b[0m\u001b[1;33m\u001b[0m\u001b[1;33m\u001b[0m\u001b[0m\n\u001b[1;32m---> 37\u001b[1;33m         \u001b[0mself\u001b[0m\u001b[1;33m.\u001b[0m\u001b[0mclick_model\u001b[0m\u001b[1;33m.\u001b[0m\u001b[0mtrain\u001b[0m\u001b[1;33m(\u001b[0m\u001b[0mself\u001b[0m\u001b[1;33m.\u001b[0m\u001b[0msearch_sessions\u001b[0m\u001b[1;33m)\u001b[0m\u001b[1;33m\u001b[0m\u001b[1;33m\u001b[0m\u001b[0m\n\u001b[0m\u001b[0;32m     38\u001b[0m \u001b[1;33m\u001b[0m\u001b[0m\n\u001b[0;32m     39\u001b[0m     \u001b[1;32mdef\u001b[0m \u001b[0mget_params\u001b[0m\u001b[1;33m(\u001b[0m\u001b[0mself\u001b[0m\u001b[1;33m)\u001b[0m\u001b[1;33m:\u001b[0m\u001b[1;33m\u001b[0m\u001b[1;33m\u001b[0m\u001b[0m\n",
      "\u001b[1;32m~\\Desktop\\Code_ Thèse\\bandits-to-rank\\pyclick\\click_models\\ClickModel.py\u001b[0m in \u001b[0;36mtrain\u001b[1;34m(self, search_sessions)\u001b[0m\n\u001b[0;32m     26\u001b[0m     \u001b[1;32mdef\u001b[0m \u001b[0mtrain\u001b[0m\u001b[1;33m(\u001b[0m\u001b[0mself\u001b[0m\u001b[1;33m,\u001b[0m \u001b[0msearch_sessions\u001b[0m\u001b[1;33m)\u001b[0m\u001b[1;33m:\u001b[0m\u001b[1;33m\u001b[0m\u001b[1;33m\u001b[0m\u001b[0m\n\u001b[0;32m     27\u001b[0m         \u001b[1;34m\"\"\"Trains the click model using the given list of search sessions.\"\"\"\u001b[0m\u001b[1;33m\u001b[0m\u001b[1;33m\u001b[0m\u001b[0m\n\u001b[1;32m---> 28\u001b[1;33m         \u001b[0mself\u001b[0m\u001b[1;33m.\u001b[0m\u001b[0m_inference\u001b[0m\u001b[1;33m.\u001b[0m\u001b[0minfer_params\u001b[0m\u001b[1;33m(\u001b[0m\u001b[0mself\u001b[0m\u001b[1;33m,\u001b[0m \u001b[0msearch_sessions\u001b[0m\u001b[1;33m)\u001b[0m\u001b[1;33m\u001b[0m\u001b[1;33m\u001b[0m\u001b[0m\n\u001b[0m\u001b[0;32m     29\u001b[0m \u001b[1;33m\u001b[0m\u001b[0m\n\u001b[0;32m     30\u001b[0m     \u001b[1;32mdef\u001b[0m \u001b[0mto_json\u001b[0m\u001b[1;33m(\u001b[0m\u001b[0mself\u001b[0m\u001b[1;33m)\u001b[0m\u001b[1;33m:\u001b[0m\u001b[1;33m\u001b[0m\u001b[1;33m\u001b[0m\u001b[0m\n",
      "\u001b[1;32m~\\Desktop\\Code_ Thèse\\bandits-to-rank\\pyclick\\click_models\\Inference.py\u001b[0m in \u001b[0;36minfer_params\u001b[1;34m(self, click_model, search_sessions)\u001b[0m\n\u001b[0;32m     59\u001b[0m             \u001b[1;32mfor\u001b[0m \u001b[0msearch_session\u001b[0m \u001b[1;32min\u001b[0m \u001b[0msearch_sessions\u001b[0m\u001b[1;33m:\u001b[0m\u001b[1;33m\u001b[0m\u001b[1;33m\u001b[0m\u001b[0m\n\u001b[0;32m     60\u001b[0m                 \u001b[0mcurrent_session_params\u001b[0m \u001b[1;33m=\u001b[0m \u001b[0mclick_model\u001b[0m\u001b[1;33m.\u001b[0m\u001b[0mget_session_params\u001b[0m\u001b[1;33m(\u001b[0m\u001b[0msearch_session\u001b[0m\u001b[1;33m)\u001b[0m\u001b[1;33m\u001b[0m\u001b[1;33m\u001b[0m\u001b[0m\n\u001b[1;32m---> 61\u001b[1;33m                 \u001b[0mnew_session_params\u001b[0m \u001b[1;33m=\u001b[0m \u001b[0mnew_click_model\u001b[0m\u001b[1;33m.\u001b[0m\u001b[0mget_session_params\u001b[0m\u001b[1;33m(\u001b[0m\u001b[0msearch_session\u001b[0m\u001b[1;33m)\u001b[0m\u001b[1;33m\u001b[0m\u001b[1;33m\u001b[0m\u001b[0m\n\u001b[0m\u001b[0;32m     62\u001b[0m \u001b[1;33m\u001b[0m\u001b[0m\n\u001b[0;32m     63\u001b[0m                 \u001b[1;32mfor\u001b[0m \u001b[0mrank\u001b[0m\u001b[1;33m,\u001b[0m \u001b[0mresult\u001b[0m \u001b[1;32min\u001b[0m \u001b[0menumerate\u001b[0m\u001b[1;33m(\u001b[0m\u001b[0msearch_session\u001b[0m\u001b[1;33m.\u001b[0m\u001b[0mweb_results\u001b[0m\u001b[1;33m[\u001b[0m\u001b[1;33m:\u001b[0m\u001b[1;36m10\u001b[0m\u001b[1;33m]\u001b[0m\u001b[1;33m)\u001b[0m\u001b[1;33m:\u001b[0m\u001b[1;33m\u001b[0m\u001b[1;33m\u001b[0m\u001b[0m\n",
      "\u001b[1;32m~\\Desktop\\Code_ Thèse\\bandits-to-rank\\pyclick\\click_models\\ClickModel.py\u001b[0m in \u001b[0;36mget_session_params\u001b[1;34m(self, search_session)\u001b[0m\n\u001b[0;32m     91\u001b[0m                 \u001b[0mparam_dict\u001b[0m\u001b[1;33m[\u001b[0m\u001b[0mparam_name\u001b[0m\u001b[1;33m]\u001b[0m \u001b[1;33m=\u001b[0m \u001b[0mparam\u001b[0m\u001b[1;33m\u001b[0m\u001b[1;33m\u001b[0m\u001b[0m\n\u001b[0;32m     92\u001b[0m \u001b[1;33m\u001b[0m\u001b[0m\n\u001b[1;32m---> 93\u001b[1;33m             \u001b[0msession_params\u001b[0m\u001b[1;33m.\u001b[0m\u001b[0mappend\u001b[0m\u001b[1;33m(\u001b[0m\u001b[0mparam_dict\u001b[0m\u001b[1;33m)\u001b[0m\u001b[1;33m\u001b[0m\u001b[1;33m\u001b[0m\u001b[0m\n\u001b[0m\u001b[0;32m     94\u001b[0m \u001b[1;33m\u001b[0m\u001b[0m\n\u001b[0;32m     95\u001b[0m         \u001b[1;32mreturn\u001b[0m \u001b[0msession_params\u001b[0m\u001b[1;33m\u001b[0m\u001b[1;33m\u001b[0m\u001b[0m\n",
      "\u001b[1;31mKeyboardInterrupt\u001b[0m: "
     ]
    }
   ],
   "source": [
    "start = time.time()\n",
    "  \n",
    "for i in range(nb_game):\n",
    "    #print ('#### game '+str(i))\n",
    "    start_game = time.time() \n",
    "\n",
    "    player_EGreedy_EM_n_MAJ_10 =  greedy.greedy_EGreedy_EM(c,nb_prop,nb_place,10)\n",
    "\n",
    "    player_greedy_EM_n_MAJ_10 =  greedy.greedy_EM(nb_prop,nb_place,10)\n",
    " \n",
    "    referee_EGreedy_EM_n_MAJ_10_5000trials_20games_desord.play_game(player_EGreedy_EM_n_MAJ_10)\n",
    "    referee_greedy_EM_n_MAJ_10_5000trials_20games_desord.play_game(player_greedy_EM_n_MAJ_10)   \n",
    "    end_game = time.time()   \n",
    "    print ('time_game :',time_sec_to_HMS(end_game-start_game))\n",
    "end = time.time()   \n",
    "print ('time :',time_sec_to_HMS(end-start)) "
   ]
  },
  {
   "cell_type": "code",
   "execution_count": 16,
   "metadata": {},
   "outputs": [
    {
     "name": "stdout",
     "output_type": "stream",
     "text": [
      "time_Egreedy : 0H 15min 51sec\n",
      "time__greedy : 0H 14min 11sec\n",
      "time_game : 0H 30min 2sec\n",
      "time_Egreedy : 0H 13min 59sec\n",
      "time__greedy : 0H 14min 53sec\n",
      "time_game : 0H 28min 52sec\n",
      "time_Egreedy : 0H 13min 19sec\n",
      "time__greedy : 0H 14min 30sec\n",
      "time_game : 0H 27min 50sec\n",
      "time_Egreedy : 0H 13min 13sec\n",
      "time__greedy : 0H 13min 41sec\n",
      "time_game : 0H 26min 55sec\n",
      "time_Egreedy : 0H 11min 19sec\n",
      "time__greedy : 0H 12min 13sec\n",
      "time_game : 0H 23min 33sec\n",
      "time_Egreedy : 0H 11min 35sec\n",
      "time__greedy : 0H 12min 18sec\n",
      "time_game : 0H 23min 53sec\n",
      "time_Egreedy : 0H 11min 24sec\n",
      "time__greedy : 0H 12min 16sec\n",
      "time_game : 0H 23min 40sec\n",
      "time_Egreedy : 0H 11min 3sec\n",
      "time__greedy : 0H 12min 19sec\n",
      "time_game : 0H 23min 23sec\n",
      "time_Egreedy : 0H 11min 33sec\n",
      "time__greedy : 0H 9min 40sec\n",
      "time_game : 0H 21min 13sec\n",
      "time_Egreedy : 0H 7min 32sec\n",
      "time__greedy : 0H 8min 34sec\n",
      "time_game : 0H 16min 6sec\n",
      "time_Egreedy : 0H 7min 41sec\n",
      "time__greedy : 0H 8min 7sec\n",
      "time_game : 0H 15min 48sec\n",
      "time_Egreedy : 0H 7min 16sec\n",
      "time__greedy : 0H 8min 9sec\n",
      "time_game : 0H 15min 26sec\n",
      "time_Egreedy : 0H 7min 11sec\n",
      "time__greedy : 0H 8min 12sec\n",
      "time_game : 0H 15min 23sec\n",
      "time_Egreedy : 0H 7min 15sec\n",
      "time__greedy : 0H 8min 11sec\n",
      "time_game : 0H 15min 26sec\n",
      "time_Egreedy : 0H 7min 43sec\n",
      "time__greedy : 0H 8min 6sec\n",
      "time_game : 0H 15min 50sec\n",
      "time_Egreedy : 0H 7min 26sec\n",
      "time__greedy : 0H 8min 6sec\n",
      "time_game : 0H 15min 32sec\n",
      "time_Egreedy : 0H 7min 28sec\n",
      "time__greedy : 0H 8min 9sec\n",
      "time_game : 0H 15min 38sec\n",
      "time_Egreedy : 0H 7min 15sec\n",
      "time__greedy : 0H 8min 10sec\n",
      "time_game : 0H 15min 26sec\n",
      "time_Egreedy : 0H 7min 16sec\n",
      "time__greedy : 0H 8min 3sec\n",
      "time_game : 0H 15min 20sec\n",
      "time_Egreedy : 0H 7min 41sec\n",
      "time__greedy : 0H 8min 11sec\n",
      "time_game : 0H 15min 52sec\n",
      "time : 6H 41min 19sec\n"
     ]
    }
   ],
   "source": [
    "referee_EGreedy_EM_n_MAJ_100_5000trials_20games_desord =  Referee(env,nb_trial)\n",
    "referee_greedy_EM_n_MAJ_100_5000trials_20games_desord =  Referee(env,nb_trial)\n",
    "\n",
    "start = time.time()\n",
    "  \n",
    "for i in range(nb_game):\n",
    "    #print ('#### game '+str(i))\n",
    "    start_game = time.time()\n",
    "    player_EGreedy_EM_n_MAJ_100 =  greedy.greedy_EGreedy_EM(c,nb_prop,nb_place,100)\n",
    "    player_greedy_EM_n_MAJ_100 =  greedy.greedy_EM(nb_prop,nb_place,100)\n",
    "    \n",
    "    start_Egreedy = time.time()\n",
    "    referee_EGreedy_EM_n_MAJ_100_5000trials_20games_desord.play_game(player_EGreedy_EM_n_MAJ_100)\n",
    "    end_Egreedy = time.time()   \n",
    "    print ('time_Egreedy :',time_sec_to_HMS(end_Egreedy-start_Egreedy))\n",
    "    \n",
    "    start_greedy= time.time()\n",
    "    referee_greedy_EM_n_MAJ_100_5000trials_20games_desord.play_game(player_greedy_EM_n_MAJ_100)\n",
    "    end_greedy = time.time()   \n",
    "    print ('time__greedy :',time_sec_to_HMS(end_greedy-start_greedy))\n",
    "    \n",
    "    end_game = time.time()   \n",
    "    print ('time_game :',time_sec_to_HMS(end_game-start_game))\n",
    "end = time.time()   \n",
    "print ('time :',time_sec_to_HMS(end-start)) "
   ]
  },
  {
   "cell_type": "code",
   "execution_count": 13,
   "metadata": {},
   "outputs": [
    {
     "name": "stdout",
     "output_type": "stream",
     "text": [
      "#### game 0\n",
      "time_Egreedy : 0H 1min 24sec\n",
      "time__greedy : 0H 2min 13sec\n",
      "time_game : 0H 3min 38sec\n",
      "#### game 1\n",
      "time_Egreedy : 0H 1min 18sec\n",
      "time__greedy : 0H 2min 8sec\n",
      "time_game : 0H 3min 26sec\n",
      "#### game 2\n",
      "time_Egreedy : 0H 1min 25sec\n",
      "time__greedy : 0H 2min 28sec\n",
      "time_game : 0H 3min 53sec\n",
      "#### game 3\n",
      "time_Egreedy : 0H 1min 32sec\n",
      "time__greedy : 0H 2min 28sec\n",
      "time_game : 0H 4min 0sec\n",
      "#### game 4\n",
      "time_Egreedy : 0H 1min 27sec\n",
      "time__greedy : 0H 2min 29sec\n",
      "time_game : 0H 3min 57sec\n",
      "#### game 5\n",
      "time_Egreedy : 0H 1min 27sec\n",
      "time__greedy : 0H 2min 27sec\n",
      "time_game : 0H 3min 54sec\n",
      "#### game 6\n",
      "time_Egreedy : 0H 1min 17sec\n",
      "time__greedy : 0H 2min 56sec\n",
      "time_game : 0H 4min 14sec\n",
      "#### game 7\n",
      "time_Egreedy : 0H 1min 41sec\n",
      "time__greedy : 0H 33min 49sec\n",
      "time_game : 0H 35min 31sec\n",
      "#### game 8\n",
      "time_Egreedy : 0H 1min 39sec\n",
      "time__greedy : 0H 3min 0sec\n",
      "time_game : 0H 4min 39sec\n",
      "#### game 9\n",
      "time_Egreedy : 0H 1min 44sec\n",
      "time__greedy : 0H 2min 59sec\n",
      "time_game : 0H 4min 44sec\n",
      "#### game 10\n",
      "time_Egreedy : 0H 1min 50sec\n",
      "time__greedy : 0H 3min 5sec\n",
      "time_game : 0H 4min 56sec\n",
      "#### game 11\n",
      "time_Egreedy : 0H 2min 24sec\n",
      "time__greedy : 0H 2min 58sec\n",
      "time_game : 0H 5min 23sec\n",
      "#### game 12\n",
      "time_Egreedy : 0H 1min 41sec\n",
      "time__greedy : 0H 2min 38sec\n",
      "time_game : 0H 4min 20sec\n",
      "#### game 13\n",
      "time_Egreedy : 0H 1min 41sec\n",
      "time__greedy : 0H 2min 40sec\n",
      "time_game : 0H 4min 22sec\n",
      "#### game 14\n",
      "time_Egreedy : 0H 1min 40sec\n",
      "time__greedy : 0H 2min 37sec\n",
      "time_game : 0H 4min 18sec\n",
      "#### game 15\n",
      "time_Egreedy : 0H 1min 41sec\n",
      "time__greedy : 0H 2min 33sec\n",
      "time_game : 0H 4min 14sec\n",
      "#### game 16\n",
      "time_Egreedy : 0H 1min 7sec\n",
      "time__greedy : 0H 2min 57sec\n",
      "time_game : 0H 4min 5sec\n",
      "#### game 17\n",
      "time_Egreedy : 0H 1min 53sec\n",
      "time__greedy : 0H 2min 50sec\n",
      "time_game : 0H 4min 44sec\n",
      "#### game 18\n",
      "time_Egreedy : 0H 1min 42sec\n",
      "time__greedy : 0H 2min 44sec\n",
      "time_game : 0H 4min 27sec\n",
      "#### game 19\n",
      "time_Egreedy : 0H 1min 37sec\n",
      "time__greedy : 0H 2min 13sec\n",
      "time_game : 0H 3min 51sec\n",
      "time : 1H 56min 43sec\n"
     ]
    }
   ],
   "source": [
    "referee_EGreedy_EM_n_MAJ_1000_5000trials_20games_desord =  Referee(env,nb_trial)\n",
    "referee_greedy_EM_n_MAJ_1000_5000trials_20games_desord =  Referee(env,nb_trial)\n",
    "\n",
    "start = time.time()\n",
    "  \n",
    "for i in range(nb_game):\n",
    "    print ('#### game '+str(i))\n",
    "    start_game = time.time()\n",
    "    player_EGreedy_EM_n_MAJ_1000 =  greedy.greedy_EGreedy_EM(c,nb_prop,nb_place,1000)\n",
    "    player_greedy_EM_n_MAJ_1000 =  greedy.greedy_EM(nb_prop,nb_place,1000)\n",
    "    \n",
    "    start_Egreedy = time.time()\n",
    "    referee_EGreedy_EM_n_MAJ_1000_5000trials_20games_desord.play_game(player_EGreedy_EM_n_MAJ_1000)\n",
    "    end_Egreedy = time.time()   \n",
    "    print ('time_Egreedy :',time_sec_to_HMS(end_Egreedy-start_Egreedy))\n",
    "    \n",
    "    start_greedy= time.time()\n",
    "    referee_greedy_EM_n_MAJ_1000_5000trials_20games_desord.play_game(player_greedy_EM_n_MAJ_1000)\n",
    "    end_greedy = time.time()   \n",
    "    print ('time__greedy :',time_sec_to_HMS(end_greedy-start_greedy))\n",
    "    \n",
    "    end_game = time.time()   \n",
    "    print ('time_game :',time_sec_to_HMS(end_game-start_game))\n",
    "end = time.time()   \n",
    "print ('time :',time_sec_to_HMS(end-start)) "
   ]
  },
  {
   "cell_type": "code",
   "execution_count": 17,
   "metadata": {},
   "outputs": [
    {
     "data": {
      "image/png": "[encoded data removed]",
      "text/plain": [
       "<Figure size 720x720 with 1 Axes>"
      ]
     },
     "metadata": {
      "needs_background": "light"
     },
     "output_type": "display_data"
    }
   ],
   "source": [
    "trials = [i for i in range(referee_Oracle_5000trials_20games_desord.nb_trials)]\n",
    "plt.figure(figsize=(10, 10))\n",
    "\n",
    "#plt.plot(trials, np.cumsum(referee_Oracle_5000trials_20games_desord.get_regret_expected(), axis=0)[trials], label='Oracle')\n",
    "plt.plot(trials, np.cumsum(referee_Random_5000trials_20games_desord.get_regret_expected(), axis=0)[trials],'r-', label='Random')\n",
    "\n",
    "#plt.plot(trials, np.cumsum(referee_EGreedy_EM_n_MAJ_1_5000trials_20games_desord.get_regret_expected(), axis=0)[trials], color = 'orange',linestyle ='-', label='Egreedy, EM & update every step')\n",
    "#plt.plot(trials, np.cumsum(referee_greedy_EM_n_MAJ_1_5000trials_20games_desord.get_regret_expected(), axis=0)[trials], color = 'orange',linestyle ='--', label='Greedy, EM & update every step')\n",
    "\n",
    "plt.plot(trials, np.cumsum(referee_EGreedy_SVD_n_MAJ_1_5000trials_20games_desord.get_regret_expected(), axis=0)[trials], color = 'b',linestyle ='-', label='Egreedy, SVD & update every step')\n",
    "plt.plot(trials, np.cumsum(referee_greedy_SVD_n_MAJ_1_5000trials_20games_desord.get_regret_expected(), axis=0)[trials], color = 'b',linestyle ='--', label='Greedy, SVD & update every step')\n",
    "\n",
    "#plt.plot(trials, np.cumsum(referee_EGreedy_EM_n_MAJ_5_5000trials_20games_desord.get_regret_expected(), axis=0)[trials], color = 'purple',linestyle ='-', label='Egreedy, EM & update every 5 steps')\n",
    "#plt.plot(trials, np.cumsum(referee_greedy_EM_n_MAJ_5_5000trials_20games_desord.get_regret_expected(), axis=0)[trials], color = 'purple',linestyle ='--', label='Greedy, EM & update every 5 steps')\n",
    "\n",
    "plt.plot(trials, np.cumsum(referee_EGreedy_SVD_n_MAJ_5_5000trials_20games_desord.get_regret_expected(), axis=0)[trials], color = 'g',linestyle ='-', label='Egreedy, SVD & update every 5 steps')\n",
    "plt.plot(trials, np.cumsum(referee_greedy_SVD_n_MAJ_5_5000trials_20games_desord.get_regret_expected(), axis=0)[trials], color = 'g',linestyle ='--', label='Greedy, SVD & update every 5 steps')\n",
    "\n",
    "\n",
    "plt.plot(trials, np.cumsum(referee_EGreedy_SVD_n_MAJ_10_5000trials_20games_desord.get_regret_expected(), axis=0)[trials], color = 'orange',linestyle ='-', label='Egreedy, SVD & update every 10 steps')\n",
    "plt.plot(trials, np.cumsum(referee_greedy_SVD_n_MAJ_10_5000trials_20games_desord.get_regret_expected(), axis=0)[trials], color = 'orange',linestyle ='--', label='Greedy, SVD & update every 10 steps')\n",
    "\n",
    "\n",
    "plt.plot(trials, np.cumsum(referee_EGreedy_SVD_n_MAJ_100_5000trials_20games_desord.get_regret_expected(), axis=0)[trials], color = 'brown',linestyle ='-', label='Egreedy, SVD & update every 100 steps')\n",
    "plt.plot(trials, np.cumsum(referee_greedy_SVD_n_MAJ_100_5000trials_20games_desord.get_regret_expected(), axis=0)[trials], color = 'brown',linestyle ='--', label='Greedy, SVD & update every 100 steps')\n",
    "\n",
    "\n",
    "plt.plot(trials, np.cumsum(referee_EGreedy_EM_n_MAJ_100_5000trials_20games_desord.get_regret_expected(), axis=0)[trials], color = 'black',linestyle ='-', label='Egreedy, EM & update every 100 steps')\n",
    "plt.plot(trials, np.cumsum(referee_greedy_EM_n_MAJ_100_5000trials_20games_desord.get_regret_expected(), axis=0)[trials], color = 'black',linestyle ='--', label='Greedy, EM & update every 100 steps')\n",
    "\n",
    "\n",
    "plt.plot(trials, np.cumsum(referee_EGreedy_SVD_n_MAJ_1000_5000trials_20games_desord.get_regret_expected(), axis=0)[trials], color = 'purple',linestyle ='-', label='Egreedy, SVD & update every 1000 steps')\n",
    "plt.plot(trials, np.cumsum(referee_greedy_SVD_n_MAJ_1000_5000trials_20games_desord.get_regret_expected(), axis=0)[trials], color = 'purple',linestyle ='--', label='Greedy, SVD & update every 1000 steps')\n",
    "\n",
    "plt.plot(trials, np.cumsum(referee_EGreedy_EM_n_MAJ_1000_5000trials_20games_desord.get_regret_expected(), axis=0)[trials], color = 'pink',linestyle ='-', label='Egreedy, EM & update every 1000 steps')\n",
    "plt.plot(trials, np.cumsum(referee_greedy_EM_n_MAJ_1000_5000trials_20games_desord.get_regret_expected(), axis=0)[trials], color = 'pink',linestyle ='--', label='Greedy, EM & update every 1000 steps')\n",
    "\n",
    "\n",
    "plt.xlabel('Time')\n",
    "plt.ylabel('Cumulative Expected Regret')\n",
    "plt.title ('Test on '+ str(nb_game) + ' games  of '+ str(nb_trial)+' trials, MH for '+str(pas)+' pas with kappas unordered')\n",
    "plt.legend()\n",
    "plt.grid(True)\n",
    "plt.loglog()\n",
    "plt.show()\n",
    "  "
   ]
  },
  {
   "cell_type": "markdown",
   "metadata": {},
   "source": [
    "### write log "
   ]
  },
  {
   "cell_type": "code",
   "execution_count": 18,
   "metadata": {},
   "outputs": [
    {
     "data": {
      "text/plain": [
       "'C:\\\\Users\\\\gauthieca\\\\Desktop\\\\Code_ Thèse\\\\bandits-to-rank\\\\Test\\\\interaction'"
      ]
     },
     "execution_count": 18,
     "metadata": {},
     "output_type": "execute_result"
    }
   ],
   "source": [
    "pwd"
   ]
  },
  {
   "cell_type": "code",
   "execution_count": 20,
   "metadata": {},
   "outputs": [
    {
     "name": "stdout",
     "output_type": "stream",
     "text": [
      "C:\\Users\\gauthieca\\Desktop\\Code_ Thèse\\bandits-to-rank\\Test\\interaction\\result\\eval_TSMH_greedy_EM\n"
     ]
    }
   ],
   "source": [
    "cd result\\eval_TSMH_greedy_EM"
   ]
  },
  {
   "cell_type": "code",
   "execution_count": 21,
   "metadata": {},
   "outputs": [],
   "source": [
    "\n",
    "with open('referee_Oracle_5000trials_20games.txt', 'w') as file:\n",
    "    json.dump(referee_Oracle_5000trials_20games_desord.record_results, file)\n",
    "with open('referee_Random_5000trials_20games_desord.txt', 'w') as file:\n",
    "    json.dump(referee_Random_5000trials_20games_desord.record_results, file)\n",
    "    \n",
    "with open('referee_EGreedy_EM_n_MAJ_100_5000trials_20games_desord.txt', 'w') as file:\n",
    "    json.dump(referee_EGreedy_EM_n_MAJ_100_5000trials_20games_desord.record_results, file)\n",
    "with open('referee_greedy_EM_n_MAJ_100_5000trials_20games_desord.txt', 'w') as file:\n",
    "    json.dump(referee_greedy_EM_n_MAJ_100_5000trials_20games_desord.record_results, file)\n",
    "with open('referee_EGreedy_EM_n_MAJ_1000_5000trials_20games_desord.txt', 'w') as file:\n",
    "    json.dump(referee_EGreedy_EM_n_MAJ_1000_5000trials_20games_desord.record_results, file)\n",
    "with open('referee_greedy_EM_n_MAJ_1000_5000trials_20games_desord.txt', 'w') as file:\n",
    "    json.dump(referee_greedy_EM_n_MAJ_1000_5000trials_20games_desord.record_results, file)\n"
   ]
  },
  {
   "cell_type": "code",
   "execution_count": null,
   "metadata": {},
   "outputs": [],
   "source": []
  }
 ],
 "metadata": {
  "kernelspec": {
   "display_name": "Python 3",
   "language": "python",
   "name": "python3"
  },
  "language_info": {
   "codemirror_mode": {
    "name": "ipython",
    "version": 3
   },
   "file_extension": ".py",
   "mimetype": "text/x-python",
   "name": "python",
   "nbconvert_exporter": "python",
   "pygments_lexer": "ipython3",
   "version": "3.7.3"
  }
 },
 "nbformat": 4,
 "nbformat_minor": 2
}
