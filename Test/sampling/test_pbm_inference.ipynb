{
 "cells": [
  {
   "cell_type": "code",
   "execution_count": 1,
   "metadata": {},
   "outputs": [],
   "source": [
    "%load_ext autoreload\n",
    "%autoreload 2\n",
    "%load_ext line_profiler"
   ]
  },
  {
   "cell_type": "code",
   "execution_count": 2,
   "metadata": {},
   "outputs": [
    {
     "name": "stdout",
     "output_type": "stream",
     "text": [
      "/Users/rgaudel/Desktop/louis_vuitton/code/bandits-to-rank\n"
     ]
    },
    {
     "data": {
      "text/plain": [
       "'/Users/rgaudel/Desktop/louis_vuitton/code/bandits-to-rank'"
      ]
     },
     "execution_count": 2,
     "metadata": {},
     "output_type": "execute_result"
    }
   ],
   "source": [
    "%pwd\n",
    "%cd ../..\n",
    "%pwd"
   ]
  },
  {
   "cell_type": "code",
   "execution_count": 8,
   "metadata": {},
   "outputs": [],
   "source": [
    "import numpy as np\n",
    "\n",
    "from bandits_to_rank.sampling.pbm_inference import EM, SVD\n",
    "from bandits_to_rank.opponents import Random\n",
    "from bandits_to_rank.environment import Environment_PBM"
   ]
  },
  {
   "cell_type": "markdown",
   "metadata": {
    "collapsed": true
   },
   "source": [
    "# Recover parameters with uniform random samples\n",
    "Not so much effivcient..."
   ]
  },
  {
   "cell_type": "code",
   "execution_count": 30,
   "metadata": {},
   "outputs": [],
   "source": [
    "def simule_log_Pyclick(pbm_model, nb_sessions, thetas, kappas):\n",
    "    nb_positions = len(kappas)\n",
    "    nb_items = len(thetas)\n",
    "    player = Random(nb_items, nb_positions)\n",
    "    env = Environment_PBM(thetas, kappas)\n",
    "\n",
    "    for t in range(nb_sessions) :\n",
    "        propositions = player.choose_next_arm()\n",
    "        rewards = env.get_reward(propositions)\n",
    "        pbm_model.add_session(propositions,rewards)\n"
   ]
  },
  {
   "cell_type": "code",
   "execution_count": 31,
   "metadata": {},
   "outputs": [
    {
     "name": "stdout",
     "output_type": "stream",
     "text": [
      "with 100 sessions\n",
      "0.0951544524066649\n",
      "[-0.15498712  0.01210904  0.1085692   0.0162041 ]\n",
      "0.1437274069110525\n",
      "[ 0.22822196 -0.07040458  0.07021846]\n",
      "with 1000 sessions\n",
      "0.08542413704145142\n",
      "[-0.09486965 -0.11113473 -0.02878172 -0.08372315]\n",
      "0.0862801145127856\n",
      "[0.11099247 0.02850564 0.09592119]\n",
      "with 10000 sessions\n",
      "0.08067453565768616\n",
      "[-0.07018095 -0.10585344 -0.03608204 -0.09274315]\n",
      "0.08944099853309981\n",
      "[0.11586592 0.06271906 0.08148917]\n"
     ]
    }
   ],
   "source": [
    "thetas = [0.5, 0.7 ,0.2 ,0.8]\n",
    "kappas = [1, 0.5, 0.7]\n",
    "for nb_sessions in  [100, 1000, 10000]:\n",
    "    print(\"with\", nb_sessions, \"sessions\")\n",
    "    pbm_model = EM(len(thetas), len(kappas))\n",
    "    simule_log_Pyclick(pbm_model, nb_sessions, thetas, kappas)\n",
    "    pbm_model.learn()\n",
    "    thetas_hat, kappas_hat = pbm_model.get_params()\n",
    "    print(np.sqrt(((thetas-thetas_hat)**2).mean()))\n",
    "    print(thetas-thetas_hat)\n",
    "    print(np.sqrt(((kappas-kappas_hat)**2).mean()))\n",
    "    print(kappas-kappas_hat)\n",
    "      "
   ]
  },
  {
   "cell_type": "markdown",
   "metadata": {},
   "source": [
    "# Comparison to SVD approach\n",
    "Là ça fonctionne !\n",
    "(et rapidement .. sur de si petites matrices ...) "
   ]
  },
  {
   "cell_type": "code",
   "execution_count": 32,
   "metadata": {},
   "outputs": [
    {
     "name": "stdout",
     "output_type": "stream",
     "text": [
      "with 100 sessions\n",
      "0.05149181027291929\n",
      "[-0.05529229 -0.04010193 -0.0424949   0.06429936]\n",
      "0.0869892016540758\n",
      "[ 0.         -0.14964068 -0.01757922]\n",
      "with 1000 sessions\n",
      "0.033420490471547576\n",
      "[ 0.05283135  0.03645452 -0.00874498  0.01646688]\n",
      "0.02628302046303746\n",
      "[ 0.         -0.04008627 -0.02157503]\n",
      "with 10000 sessions\n",
      "0.0074380301406347625\n",
      "[-0.00264484 -0.01181089  0.00454966  0.00735565]\n",
      "0.00968827921053264\n",
      "[0.         0.00466221 0.01611993]\n",
      "with 100000 sessions\n",
      "0.002552579937561695\n",
      "[-0.00421433  0.00200655  0.00150588 -0.0014171 ]\n",
      "0.0017091958861341781\n",
      "[0.         0.00046757 0.00292326]\n"
     ]
    }
   ],
   "source": [
    "thetas = [0.5, 0.7 ,0.2 ,0.8]\n",
    "kappas = [1, 0.5, 0.7]\n",
    "for nb_sessions in  [100, 1000, 10000, 100000]:\n",
    "    print(\"with\", nb_sessions, \"sessions\")\n",
    "    pbm_model = SVD(len(thetas), len(kappas))\n",
    "    simule_log_Pyclick(pbm_model, nb_sessions, thetas, kappas)\n",
    "    pbm_model.learn()\n",
    "    thetas_hat, kappas_hat = pbm_model.get_params()\n",
    "    print(np.sqrt(((thetas-thetas_hat)**2).mean()))\n",
    "    print(thetas-thetas_hat)\n",
    "    print(np.sqrt(((kappas-kappas_hat)**2).mean()))\n",
    "    print(kappas-kappas_hat)     "
   ]
  },
  {
   "cell_type": "code",
   "execution_count": 33,
   "metadata": {},
   "outputs": [
    {
     "name": "stdout",
     "output_type": "stream",
     "text": [
      "with 100 sessions\n",
      "0.08924014192654435\n",
      "[ 0.10420013  0.17288257 -0.01407204  0.10562703 -0.09895308  0.00611214\n",
      "  0.0406113  -0.11336569  0.00306192 -0.05654543]\n",
      "0.04285499025710726\n",
      "[ 0.          0.0392778   0.06154771 -0.02641975 -0.05615943]\n",
      "with 1000 sessions\n",
      "0.02414870059384662\n",
      "[ 0.00634012 -0.0162389  -0.01309578  0.02894184  0.03008833  0.04868902\n",
      " -0.01548371 -0.02468001  0.01693392  0.01034578]\n",
      "0.03740151466660049\n",
      "[ 0.          0.00248327 -0.0297299  -0.06316568 -0.04598293]\n",
      "with 10000 sessions\n",
      "0.010776635090419574\n",
      "[ 0.0125705   0.00692712 -0.00405881 -0.00507275  0.00129566 -0.00734931\n",
      " -0.00424747 -0.00048515  0.028735    0.00367175]\n",
      "0.012020943556492603\n",
      "[ 0.          0.00571233 -0.01191441 -0.01934221 -0.01318371]\n",
      "with 100000 sessions\n",
      "0.0027457198495787712\n",
      "[-0.00114878  0.00431639  0.00088367 -0.00567141 -0.00095722  0.00283968\n",
      "  0.00118336  0.00262476 -0.0017386   0.00148345]\n",
      "0.002954001371238753\n",
      "[ 0.          0.00021446 -0.00305494 -0.00557252 -0.00178858]\n"
     ]
    }
   ],
   "source": [
    "thetas = [0.5, 0.7 ,0.2 ,0.8 ,0.1, 0.5, 0.7 ,0.2 ,0.8 ,0.1 ]\n",
    "kappas = [1, 0.5, 0.2, 0.9, 0.7]\n",
    "for nb_sessions in  [100, 1000, 10000, 100000]:\n",
    "    print(\"with\", nb_sessions, \"sessions\")\n",
    "    pbm_model = SVD(len(thetas), len(kappas))\n",
    "    simule_log_Pyclick(pbm_model, nb_sessions, thetas, kappas)\n",
    "    pbm_model.learn()\n",
    "    thetas_hat, kappas_hat = pbm_model.get_params()\n",
    "    print(np.sqrt(((thetas-thetas_hat)**2).mean()))\n",
    "    print(thetas-thetas_hat)\n",
    "    print(np.sqrt(((kappas-kappas_hat)**2).mean()))\n",
    "    print(kappas-kappas_hat)     "
   ]
  },
  {
   "cell_type": "code",
   "execution_count": null,
   "metadata": {},
   "outputs": [],
   "source": []
  }
 ],
 "metadata": {
  "kernelspec": {
   "display_name": "Python 3",
   "language": "python",
   "name": "python3"
  },
  "language_info": {
   "codemirror_mode": {
    "name": "ipython",
    "version": 3
   },
   "file_extension": ".py",
   "mimetype": "text/x-python",
   "name": "python",
   "nbconvert_exporter": "python",
   "pygments_lexer": "ipython3",
   "version": "3.7.4"
  }
 },
 "nbformat": 4,
 "nbformat_minor": 1
}
